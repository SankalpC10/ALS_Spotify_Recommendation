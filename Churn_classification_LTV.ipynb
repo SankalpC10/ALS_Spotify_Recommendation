{
  "cells": [
    {
      "cell_type": "markdown",
      "metadata": {
        "id": "view-in-github",
        "colab_type": "text"
      },
      "source": [
        "<a href=\"https://colab.research.google.com/github/SankalpC10/Colab_Notebooks/blob/main/Churn_classification_LTV.ipynb\" target=\"_parent\"><img src=\"https://colab.research.google.com/assets/colab-badge.svg\" alt=\"Open In Colab\"/></a>"
      ]
    },
    {
      "cell_type": "code",
      "execution_count": 2,
      "metadata": {
        "id": "znEK1MNRXqWY"
      },
      "outputs": [],
      "source": [
        "#@title Copyright 2019 The Lifetime Value Authors.\n",
        "# Licensed under the Apache License, Version 2.0 (the \"License\");\n",
        "# you may not use this file except in compliance with the License.\n",
        "# You may obtain a copy of the License at\n",
        "#\n",
        "#     https://www.apache.org/licenses/LICENSE-2.0\n",
        "#\n",
        "# Unless required by applicable law or agreed to in writing, software\n",
        "# distributed under the License is distributed on an \"AS IS\" BASIS,\n",
        "# WITHOUT WARRANTIES OR CONDITIONS OF ANY KIND, either express or implied.\n",
        "# See the License for the specific language governing permissions and\n",
        "# limitations under the License.\n",
        "# ============================================================================"
      ]
    },
    {
      "cell_type": "markdown",
      "metadata": {
        "id": "3oNqWmn530N-"
      },
      "source": [
        "# Churn Prediction for Kaggle Acquire Valued Customer Challenge"
      ]
    },
    {
      "cell_type": "markdown",
      "metadata": {
        "id": "XKydJ9qF4KVm"
      },
      "source": [
        "<table align=\"left\">\n",
        "  <td>\n",
        "    <a target=\"_blank\" href=\"https://colab.research.google.com/github/google/lifetime_value/blob/master/notebooks/kaggle_acquire_valued_shoppers_challenge/classification.ipynb\"><img src=\"https://www.tensorflow.org/images/colab_logo_32px.png\" />Run in Google Colab</a>\n",
        "  </td>\n",
        "  <td>\n",
        "    <a target=\"_blank\" href=\"https://github.com/google/lifetime_value/blob/master/notebooks/kaggle_acquire_valued_shoppers_challenge/classification.ipynb\"><img src=\"https://www.tensorflow.org/images/GitHub-Mark-32px.png\" />View source on GitHub</a>\n",
        "  </td>\n",
        "</table>"
      ]
    },
    {
      "cell_type": "code",
      "source": [
        "import tensorflow.compat.v1 as tf\n",
        "import tensorflow_probability as tfp\n",
        "tfd = tfp.distributions\n",
        "\n",
        "import os\n",
        "\n",
        "import numpy as np\n",
        "import pandas as pd\n",
        "from scipy import stats\n",
        "import seaborn as sns\n",
        "from sklearn import model_selection\n",
        "from sklearn import preprocessing\n",
        "import tensorflow as tf\n",
        "from tensorflow import keras\n",
        "from tensorflow.keras import backend as K\n",
        "import tensorflow_probability as tfp\n",
        "import tqdm\n",
        "from typing import Sequence"
      ],
      "metadata": {
        "id": "DT1EJwurNJ8U"
      },
      "execution_count": 3,
      "outputs": []
    },
    {
      "cell_type": "code",
      "execution_count": 74,
      "metadata": {
        "colab": {
          "base_uri": "https://localhost:8080/"
        },
        "id": "KObdQwyXH2mC",
        "outputId": "2832a4c6-e85e-4da4-f13d-61c4bc6dd3c5"
      },
      "outputs": [
        {
          "output_type": "stream",
          "name": "stdout",
          "text": [
            "  Preparing metadata (setup.py) ... \u001b[?25l\u001b[?25hdone\n"
          ]
        }
      ],
      "source": [
        "import os\n",
        "\n",
        "import numpy as np\n",
        "import pandas as pd\n",
        "import tqdm\n",
        "from sklearn import metrics\n",
        "from sklearn import model_selection\n",
        "from sklearn import preprocessing\n",
        "import tensorflow as tf\n",
        "from tensorflow import keras\n",
        "from tensorflow.keras import backend as K\n",
        "import tensorflow_probability as tfp\n",
        "from typing import Sequence\n",
        "import pickle\n",
        "\n",
        "# install and import ltv\n",
        "# !pip install -q git+https://github.com/google/lifetime_value\n",
        "!pip install -q git+https://github.com/seyedrezamirkhani/lifetime_value\n",
        "import lifetime_value as ltv"
      ]
    },
    {
      "cell_type": "code",
      "source": [
        "def zero_inflated_lognormal_pred(logits: tf.Tensor) -> tf.Tensor:\n",
        "  \"\"\"Calculates predicted mean of zero inflated lognormal logits.\n",
        "\n",
        "  Arguments:\n",
        "    logits: [batch_size, 3] tensor of logits.\n",
        "\n",
        "  Returns:\n",
        "    preds: [batch_size, 1] tensor of predicted mean.\n",
        "  \"\"\"\n",
        "  logits = tf.convert_to_tensor(logits, dtype=tf.float32)\n",
        "  positive_probs = tf.keras.backend.sigmoid(logits[..., :1])\n",
        "  loc = logits[..., 1:2]\n",
        "  scale = tf.keras.backend.softplus(logits[..., 2:])\n",
        "  preds = (\n",
        "      positive_probs *\n",
        "      tf.keras.backend.exp(loc + 0.5 * tf.keras.backend.square(scale)))\n",
        "  return preds\n",
        "\n",
        "@tf.keras.utils.register_keras_serializable()\n",
        "def zero_inflated_lognormal_loss(labels: tf.Tensor,\n",
        "                                 logits: tf.Tensor) -> tf.Tensor:\n",
        "  \"\"\"Computes the zero inflated lognormal loss.\n",
        "\n",
        "  Usage with tf.keras API:\n",
        "\n",
        "  ```python\n",
        "  model = tf.keras.Model(inputs, outputs)\n",
        "  model.compile('sgd', loss=zero_inflated_lognormal)\n",
        "  ```\n",
        "\n",
        "  Arguments:\n",
        "    labels: True targets, tensor of shape [batch_size, 1].\n",
        "    logits: Logits of output layer, tensor of shape [batch_size, 3].\n",
        "\n",
        "  Returns:\n",
        "    Zero inflated lognormal loss value.\n",
        "  \"\"\"\n",
        "  labels = tf.convert_to_tensor(labels, dtype=tf.float32)\n",
        "  positive = tf.cast(labels > 0, tf.float32)\n",
        "\n",
        "  logits = tf.convert_to_tensor(logits, dtype=tf.float32)\n",
        "  logits.shape.assert_is_compatible_with(\n",
        "      tf.TensorShape(labels.shape[:-1].as_list() + [3]))\n",
        "\n",
        "  positive_logits = logits[..., :1]\n",
        "  classification_loss = tf.keras.losses.binary_crossentropy(\n",
        "      y_true=positive, y_pred=positive_logits, from_logits=True)\n",
        "\n",
        "  loc = logits[..., 1:2]\n",
        "  scale = tf.math.maximum(\n",
        "      tf.keras.backend.softplus(logits[..., 2:]),\n",
        "      tf.math.sqrt(tf.keras.backend.epsilon()))\n",
        "  safe_labels = positive * labels + (\n",
        "      1 - positive) * tf.keras.backend.ones_like(labels)\n",
        "  regression_loss = -tf.keras.backend.mean(\n",
        "      positive * tfd.LogNormal(loc=loc, scale=scale).log_prob(safe_labels),\n",
        "      axis=-1)\n",
        "\n",
        "  return classification_loss + regression_loss"
      ],
      "metadata": {
        "id": "MWDt0dn_NZDy"
      },
      "execution_count": 5,
      "outputs": []
    },
    {
      "cell_type": "code",
      "execution_count": 6,
      "metadata": {
        "id": "K41RmAfNXtu_"
      },
      "outputs": [],
      "source": [
        "tfd = tfp.distributions\n",
        "pd.options.mode.chained_assignment = None  # default='warn'"
      ]
    },
    {
      "cell_type": "markdown",
      "metadata": {
        "id": "RzTaK6fFXMWT"
      },
      "source": [
        "## Global variables"
      ]
    },
    {
      "cell_type": "code",
      "execution_count": 7,
      "metadata": {
        "id": "VQVhF3fhNEr2"
      },
      "outputs": [],
      "source": [
        "COMPANY = '104900040'  # @param { isTemplate: true, type: 'string'}\n",
        "LOSS = 'ziln'  # @param { isTemplate: true, type: 'string'} ['bce', 'ziln']\n",
        "# LOSS = 'bce'  # @param { isTemplate: true, type: 'string'} ['bce', 'ziln']\n",
        "# MODEL = 'linear'  # @param { isTemplate: true, type: 'string'} ['linear', 'dnn']\n",
        "MODEL = 'dnn'  # @param { isTemplate: true, type: 'string'} ['linear', 'dnn']\n",
        "LEARNING_RATE = 0.0002  # @param { isTemplate: true}\n",
        "EPOCHS = 400  # @param {type: 'integer'}\n",
        "DATA_FOLDER = './tmp/acquire-valued-shoppers-challenge' # @param { isTemplate: true, type: 'string'}\n",
        "OUTPUT_CSV_FOLDER = f'{DATA_FOLDER}/result'  # @param { isTemplate: true, type: 'string'}"
      ]
    },
    {
      "cell_type": "code",
      "execution_count": 8,
      "metadata": {
        "id": "g7dg8TwYbxnl"
      },
      "outputs": [],
      "source": [
        "CATEGORICAL_FEATURES = ['chain', 'dept', 'category', 'brand', 'productmeasure']\n",
        "NUMERIC_FEATURES = ['log_calibration_value']\n",
        "\n",
        "ALL_FEATURES = CATEGORICAL_FEATURES + NUMERIC_FEATURES"
      ]
    },
    {
      "cell_type": "code",
      "execution_count": 9,
      "metadata": {
        "colab": {
          "base_uri": "https://localhost:8080/"
        },
        "id": "IR40JnLcUjFh",
        "outputId": "cf615a1d-1387-4165-a225-0163ea066cde"
      },
      "outputs": [
        {
          "output_type": "stream",
          "name": "stdout",
          "text": [
            "env: DATA_FOLDER=./tmp/acquire-valued-shoppers-challenge\n"
          ]
        }
      ],
      "source": [
        "# Set it DATA_FOLDER as an environment variable\n",
        "%env DATA_FOLDER=$DATA_FOLDER"
      ]
    },
    {
      "cell_type": "markdown",
      "metadata": {
        "id": "I_nbvZjMuj_z"
      },
      "source": [
        "## Data"
      ]
    },
    {
      "cell_type": "markdown",
      "metadata": {
        "id": "SFi0JMPu138h"
      },
      "source": [
        "### Download data"
      ]
    },
    {
      "cell_type": "markdown",
      "metadata": {
        "id": "krXMbrkVNtdN"
      },
      "source": [
        "Setup kaggle API correctly following https://www.kaggle.com/docs/api\n",
        "```\n",
        "%%shell\n",
        "mkdir ~/.kaggle\n",
        "echo \\{\\\"username\\\":\\\"{your kaggle username}\\\",\\\"key\\\":\\\"{your kaggle api key}\\\"\\} > ~/.kaggle/kaggle.json\n",
        "pip install kaggle\n",
        "```"
      ]
    },
    {
      "cell_type": "code",
      "execution_count": 10,
      "metadata": {
        "colab": {
          "base_uri": "https://localhost:8080/"
        },
        "id": "wYZGoDECUmhJ",
        "outputId": "1609bb00-4bfb-4911-e18c-2facfee9dc91"
      },
      "outputs": [
        {
          "output_type": "stream",
          "name": "stdout",
          "text": [
            "Requirement already satisfied: kaggle in /usr/local/lib/python3.10/dist-packages (1.6.17)\n",
            "Requirement already satisfied: six>=1.10 in /usr/local/lib/python3.10/dist-packages (from kaggle) (1.16.0)\n",
            "Requirement already satisfied: certifi>=2023.7.22 in /usr/local/lib/python3.10/dist-packages (from kaggle) (2024.8.30)\n",
            "Requirement already satisfied: python-dateutil in /usr/local/lib/python3.10/dist-packages (from kaggle) (2.8.2)\n",
            "Requirement already satisfied: requests in /usr/local/lib/python3.10/dist-packages (from kaggle) (2.32.3)\n",
            "Requirement already satisfied: tqdm in /usr/local/lib/python3.10/dist-packages (from kaggle) (4.66.6)\n",
            "Requirement already satisfied: python-slugify in /usr/local/lib/python3.10/dist-packages (from kaggle) (8.0.4)\n",
            "Requirement already satisfied: urllib3 in /usr/local/lib/python3.10/dist-packages (from kaggle) (2.2.3)\n",
            "Requirement already satisfied: bleach in /usr/local/lib/python3.10/dist-packages (from kaggle) (6.2.0)\n",
            "Requirement already satisfied: webencodings in /usr/local/lib/python3.10/dist-packages (from bleach->kaggle) (0.5.1)\n",
            "Requirement already satisfied: text-unidecode>=1.3 in /usr/local/lib/python3.10/dist-packages (from python-slugify->kaggle) (1.3)\n",
            "Requirement already satisfied: charset-normalizer<4,>=2 in /usr/local/lib/python3.10/dist-packages (from requests->kaggle) (3.4.0)\n",
            "Requirement already satisfied: idna<4,>=2.5 in /usr/local/lib/python3.10/dist-packages (from requests->kaggle) (3.10)\n"
          ]
        },
        {
          "output_type": "execute_result",
          "data": {
            "text/plain": []
          },
          "metadata": {},
          "execution_count": 10
        }
      ],
      "source": [
        "%%shell\n",
        "mkdir ~/.kaggle\n",
        "echo \\{\\\"username\\\":\\\"sankalpchavhan\\\",\\\"key\\\":\\\"c2c7e3b5079f84cb89cb3557fbcc2aa2\\\"\\} > ~/.kaggle/kaggle.json\n",
        "pip install kaggle"
      ]
    },
    {
      "cell_type": "code",
      "execution_count": 11,
      "metadata": {
        "colab": {
          "base_uri": "https://localhost:8080/"
        },
        "id": "0gf4ipd-14x0",
        "outputId": "979298b8-f944-45dd-a36d-cd29a41eae60"
      },
      "outputs": [
        {
          "output_type": "stream",
          "name": "stdout",
          "text": [
            "Warning: Your Kaggle API key is readable by other users on this system! To fix this, you can run 'chmod 600 /root/.kaggle/kaggle.json'\n",
            "Downloading acquire-valued-shoppers-challenge.zip to /content/tmp/acquire-valued-shoppers-challenge\n",
            "\n",
            "Unzip file. This may take 10 min.\n",
            "Archive:  acquire-valued-shoppers-challenge.zip\n",
            "  inflating: transactions.csv.gz     \n"
          ]
        },
        {
          "output_type": "stream",
          "name": "stderr",
          "text": [
            "\r  0%|          | 0.00/2.86G [00:00<?, ?B/s]\r  0%|          | 5.00M/2.86G [00:00<01:23, 36.7MB/s]\r  1%|          | 25.0M/2.86G [00:00<00:40, 75.8MB/s]\r  1%|          | 33.0M/2.86G [00:00<00:39, 76.6MB/s]\r  2%|▏         | 49.0M/2.86G [00:00<00:43, 69.3MB/s]\r  2%|▏         | 72.0M/2.86G [00:00<00:28, 107MB/s] \r  3%|▎         | 85.0M/2.86G [00:00<00:28, 104MB/s]\r  3%|▎         | 98.0M/2.86G [00:01<00:26, 112MB/s]\r  4%|▍         | 121M/2.86G [00:01<00:27, 109MB/s] \r  5%|▍         | 134M/2.86G [00:01<00:26, 113MB/s]\r  5%|▍         | 146M/2.86G [00:01<00:25, 114MB/s]\r  5%|▌         | 158M/2.86G [00:01<00:29, 99.8MB/s]\r  6%|▌         | 174M/2.86G [00:01<00:25, 114MB/s] \r  6%|▋         | 186M/2.86G [00:01<00:24, 116MB/s]\r  7%|▋         | 198M/2.86G [00:02<00:24, 115MB/s]\r  7%|▋         | 210M/2.86G [00:02<00:25, 111MB/s]\r  8%|▊         | 228M/2.86G [00:02<00:21, 129MB/s]\r  8%|▊         | 241M/2.86G [00:02<00:23, 118MB/s]\r  9%|▊         | 255M/2.86G [00:02<00:22, 123MB/s]\r  9%|▉         | 268M/2.86G [00:02<00:42, 65.9MB/s]\r  9%|▉         | 278M/2.86G [00:03<00:40, 68.9MB/s]\r 10%|▉         | 291M/2.86G [00:03<00:34, 81.1MB/s]\r 10%|█         | 306M/2.86G [00:03<00:28, 96.4MB/s]\r 11%|█         | 318M/2.86G [00:03<00:35, 76.9MB/s]\r 11%|█         | 329M/2.86G [00:03<00:46, 59.1MB/s]\r 12%|█▏        | 352M/2.86G [00:03<00:30, 88.7MB/s]\r 12%|█▏        | 365M/2.86G [00:04<00:29, 91.1MB/s]\r 13%|█▎        | 383M/2.86G [00:04<00:24, 111MB/s] \r 14%|█▎        | 397M/2.86G [00:04<00:24, 108MB/s]\r 14%|█▍        | 411M/2.86G [00:04<00:23, 113MB/s]\r 14%|█▍        | 425M/2.86G [00:04<00:23, 112MB/s]\r 15%|█▍        | 437M/2.86G [00:04<00:23, 112MB/s]\r 15%|█▌        | 449M/2.86G [00:04<00:22, 113MB/s]\r 16%|█▌        | 461M/2.86G [00:04<00:23, 110MB/s]\r 16%|█▋        | 478M/2.86G [00:05<00:20, 126MB/s]\r 17%|█▋        | 492M/2.86G [00:05<00:19, 130MB/s]\r 17%|█▋        | 506M/2.86G [00:05<00:18, 134MB/s]\r 18%|█▊        | 520M/2.86G [00:05<00:19, 128MB/s]\r 18%|█▊        | 533M/2.86G [00:05<00:22, 110MB/s]\r 19%|█▊        | 545M/2.86G [00:05<00:22, 111MB/s]\r 19%|█▉        | 561M/2.86G [00:05<00:20, 122MB/s]\r 20%|█▉        | 574M/2.86G [00:05<00:20, 123MB/s]\r 20%|█▉        | 586M/2.86G [00:06<00:23, 103MB/s]\r 20%|██        | 597M/2.86G [00:06<00:27, 90.0MB/s]\r 21%|██        | 607M/2.86G [00:06<00:26, 92.2MB/s]\r 21%|██        | 621M/2.86G [00:06<00:23, 103MB/s] \r 22%|██▏       | 632M/2.86G [00:06<00:28, 85.0MB/s]\r 22%|██▏       | 641M/2.86G [00:06<00:31, 76.0MB/s]\r 22%|██▏       | 649M/2.86G [00:06<00:31, 76.1MB/s]\r 22%|██▏       | 657M/2.86G [00:07<00:31, 76.4MB/s]\r 23%|██▎       | 665M/2.86G [00:07<00:30, 77.3MB/s]\r 23%|██▎       | 673M/2.86G [00:07<00:31, 75.1MB/s]\r 23%|██▎       | 685M/2.86G [00:07<00:26, 88.3MB/s]\r 24%|██▎       | 694M/2.86G [00:07<00:27, 86.7MB/s]\r 24%|██▍       | 703M/2.86G [00:07<00:36, 64.0MB/s]\r 24%|██▍       | 711M/2.86G [00:07<00:36, 63.8MB/s]\r 24%|██▍       | 718M/2.86G [00:07<00:39, 58.6MB/s]\r 25%|██▍       | 725M/2.86G [00:08<00:39, 58.4MB/s]\r 25%|██▍       | 731M/2.86G [00:08<00:45, 51.0MB/s]\r 25%|██▌       | 737M/2.86G [00:08<00:43, 52.4MB/s]\r 25%|██▌       | 747M/2.86G [00:08<00:35, 64.6MB/s]\r 26%|██▌       | 756M/2.86G [00:08<00:31, 72.0MB/s]\r 26%|██▌       | 764M/2.86G [00:08<00:35, 64.4MB/s]\r 26%|██▋       | 771M/2.86G [00:08<00:41, 54.9MB/s]\r 27%|██▋       | 777M/2.86G [00:09<00:44, 50.8MB/s]\r 27%|██▋       | 783M/2.86G [00:09<00:45, 49.4MB/s]\r 27%|██▋       | 788M/2.86G [00:09<00:46, 48.0MB/s]\r 27%|██▋       | 793M/2.86G [00:09<00:47, 47.0MB/s]\r 27%|██▋       | 803M/2.86G [00:09<00:37, 58.7MB/s]\r 28%|██▊       | 809M/2.86G [00:09<00:48, 46.1MB/s]\r 28%|██▊       | 814M/2.86G [00:09<00:51, 43.2MB/s]\r 28%|██▊       | 820M/2.86G [00:10<00:48, 46.1MB/s]\r 28%|██▊       | 831M/2.86G [00:10<00:35, 61.6MB/s]\r 29%|██▊       | 838M/2.86G [00:10<00:36, 60.4MB/s]\r 29%|██▉       | 845M/2.86G [00:10<00:40, 53.9MB/s]\r 29%|██▉       | 851M/2.86G [00:10<00:50, 43.0MB/s]\r 29%|██▉       | 860M/2.86G [00:10<00:42, 51.2MB/s]\r 30%|██▉       | 869M/2.86G [00:10<00:35, 60.3MB/s]\r 30%|██▉       | 876M/2.86G [00:11<00:35, 60.5MB/s]\r 30%|███       | 889M/2.86G [00:11<00:30, 70.4MB/s]\r 31%|███       | 898M/2.86G [00:11<00:28, 74.9MB/s]\r 31%|███       | 913M/2.86G [00:11<00:23, 91.1MB/s]\r 32%|███▏      | 929M/2.86G [00:11<00:22, 93.2MB/s]\r 32%|███▏      | 942M/2.86G [00:11<00:20, 101MB/s] \r 32%|███▏      | 952M/2.86G [00:11<00:21, 95.4MB/s]\r 33%|███▎      | 962M/2.86G [00:11<00:23, 86.6MB/s]\r 33%|███▎      | 975M/2.86G [00:12<00:20, 98.3MB/s]\r 34%|███▎      | 985M/2.86G [00:12<00:24, 82.8MB/s]\r 34%|███▍      | 994M/2.86G [00:12<00:27, 73.3MB/s]\r 34%|███▍      | 0.98G/2.86G [00:12<00:27, 72.9MB/s]\r 35%|███▍      | 0.99G/2.86G [00:12<00:22, 90.3MB/s]\r 35%|███▌      | 1.00G/2.86G [00:12<00:32, 60.6MB/s]\r 35%|███▌      | 1.01G/2.86G [00:13<00:31, 63.7MB/s]\r 36%|███▌      | 1.02G/2.86G [00:13<00:38, 51.9MB/s]\r 36%|███▌      | 1.03G/2.86G [00:13<00:29, 65.6MB/s]\r 36%|███▋      | 1.04G/2.86G [00:13<00:28, 68.7MB/s]\r 37%|███▋      | 1.05G/2.86G [00:13<00:28, 69.4MB/s]\r 37%|███▋      | 1.06G/2.86G [00:13<00:24, 78.5MB/s]\r 37%|███▋      | 1.07G/2.86G [00:13<00:21, 88.3MB/s]\r 38%|███▊      | 1.08G/2.86G [00:14<00:21, 89.7MB/s]\r 38%|███▊      | 1.09G/2.86G [00:14<00:24, 76.2MB/s]\r 39%|███▊      | 1.10G/2.86G [00:14<00:20, 90.5MB/s]\r 39%|███▉      | 1.11G/2.86G [00:14<00:20, 94.0MB/s]\r 39%|███▉      | 1.12G/2.86G [00:14<00:25, 73.6MB/s]\r 40%|███▉      | 1.13G/2.86G [00:14<00:22, 82.0MB/s]\r 40%|████      | 1.15G/2.86G [00:14<00:18, 101MB/s] \r 40%|████      | 1.16G/2.86G [00:15<00:19, 91.6MB/s]\r 41%|████      | 1.17G/2.86G [00:15<00:20, 89.6MB/s]\r 41%|████      | 1.18G/2.86G [00:15<00:20, 90.4MB/s]\r 42%|████▏     | 1.19G/2.86G [00:15<00:19, 91.7MB/s]\r 42%|████▏     | 1.20G/2.86G [00:15<00:25, 70.4MB/s]\r 42%|████▏     | 1.21G/2.86G [00:15<00:20, 86.5MB/s]\r 43%|████▎     | 1.23G/2.86G [00:15<00:16, 108MB/s] \r 44%|████▎     | 1.25G/2.86G [00:15<00:12, 135MB/s]\r 44%|████▍     | 1.26G/2.86G [00:16<00:13, 126MB/s]\r 45%|████▍     | 1.28G/2.86G [00:16<00:13, 130MB/s]\r 45%|████▌     | 1.29G/2.86G [00:16<00:16, 101MB/s]\r 46%|████▌     | 1.30G/2.86G [00:16<00:16, 104MB/s]\r 46%|████▌     | 1.32G/2.86G [00:16<00:15, 110MB/s]\r 47%|████▋     | 1.33G/2.86G [00:16<00:13, 121MB/s]\r 47%|████▋     | 1.34G/2.86G [00:16<00:14, 111MB/s]\r 48%|████▊     | 1.36G/2.86G [00:16<00:12, 130MB/s]\r 48%|████▊     | 1.38G/2.86G [00:17<00:12, 130MB/s]\r 49%|████▊     | 1.39G/2.86G [00:17<00:14, 109MB/s]\r 49%|████▉     | 1.40G/2.86G [00:17<00:15, 102MB/s]\r 50%|████▉     | 1.42G/2.86G [00:17<00:12, 121MB/s]\r 50%|████▉     | 1.43G/2.86G [00:17<00:15, 96.8MB/s]\r 50%|█████     | 1.44G/2.86G [00:17<00:14, 103MB/s] \r 51%|█████     | 1.46G/2.86G [00:17<00:13, 111MB/s]\r 51%|█████▏    | 1.47G/2.86G [00:18<00:12, 121MB/s]\r 52%|█████▏    | 1.48G/2.86G [00:18<00:11, 124MB/s]\r 52%|█████▏    | 1.50G/2.86G [00:18<00:11, 124MB/s]\r 53%|█████▎    | 1.51G/2.86G [00:18<00:11, 130MB/s]\r 53%|█████▎    | 1.53G/2.86G [00:18<00:10, 139MB/s]\r 54%|█████▍    | 1.54G/2.86G [00:18<00:14, 97.7MB/s]\r 54%|█████▍    | 1.55G/2.86G [00:18<00:13, 103MB/s] \r 55%|█████▍    | 1.57G/2.86G [00:18<00:10, 127MB/s]\r 55%|█████▌    | 1.59G/2.86G [00:19<00:11, 119MB/s]\r 56%|█████▌    | 1.60G/2.86G [00:19<00:10, 125MB/s]\r 56%|█████▋    | 1.61G/2.86G [00:19<00:12, 104MB/s]\r 57%|█████▋    | 1.63G/2.86G [00:19<00:13, 98.1MB/s]\r 57%|█████▋    | 1.64G/2.86G [00:19<00:12, 109MB/s] \r 58%|█████▊    | 1.65G/2.86G [00:19<00:13, 96.6MB/s]\r 58%|█████▊    | 1.66G/2.86G [00:19<00:12, 105MB/s] \r 59%|█████▊    | 1.68G/2.86G [00:20<00:10, 122MB/s]\r 59%|█████▉    | 1.70G/2.86G [00:20<00:09, 138MB/s]\r 60%|█████▉    | 1.71G/2.86G [00:20<00:09, 128MB/s]\r 60%|██████    | 1.72G/2.86G [00:20<00:10, 113MB/s]\r 61%|██████    | 1.74G/2.86G [00:20<00:09, 126MB/s]\r 61%|██████▏   | 1.75G/2.86G [00:21<00:26, 45.3MB/s]\r 62%|██████▏   | 1.76G/2.86G [00:21<00:29, 39.7MB/s]\r 62%|██████▏   | 1.77G/2.86G [00:21<00:26, 44.6MB/s]\r 62%|██████▏   | 1.78G/2.86G [00:21<00:24, 46.7MB/s]\r 63%|██████▎   | 1.79G/2.86G [00:22<00:20, 55.2MB/s]\r 63%|██████▎   | 1.80G/2.86G [00:22<00:23, 48.7MB/s]\r 63%|██████▎   | 1.80G/2.86G [00:22<00:24, 46.5MB/s]\r 63%|██████▎   | 1.81G/2.86G [00:22<00:24, 46.7MB/s]\r 63%|██████▎   | 1.82G/2.86G [00:22<00:23, 47.1MB/s]\r 64%|██████▎   | 1.82G/2.86G [00:22<00:22, 50.2MB/s]\r 64%|██████▍   | 1.83G/2.86G [00:23<00:23, 47.0MB/s]\r 64%|██████▍   | 1.84G/2.86G [00:23<00:21, 50.3MB/s]\r 64%|██████▍   | 1.84G/2.86G [00:23<00:21, 51.0MB/s]\r 65%|██████▍   | 1.85G/2.86G [00:23<00:17, 61.1MB/s]\r 65%|██████▌   | 1.86G/2.86G [00:23<00:15, 69.4MB/s]\r 65%|██████▌   | 1.87G/2.86G [00:23<00:15, 69.9MB/s]\r 66%|██████▌   | 1.88G/2.86G [00:23<00:14, 75.1MB/s]\r 66%|██████▋   | 1.90G/2.86G [00:23<00:11, 91.3MB/s]\r 67%|██████▋   | 1.91G/2.86G [00:24<00:13, 74.4MB/s]\r 67%|██████▋   | 1.92G/2.86G [00:24<00:14, 72.1MB/s]\r 67%|██████▋   | 1.92G/2.86G [00:24<00:15, 63.2MB/s]\r 67%|██████▋   | 1.93G/2.86G [00:24<00:16, 60.5MB/s]\r 68%|██████▊   | 1.94G/2.86G [00:24<00:16, 62.1MB/s]\r 68%|██████▊   | 1.94G/2.86G [00:24<00:15, 64.1MB/s]\r 68%|██████▊   | 1.95G/2.86G [00:24<00:16, 60.7MB/s]\r 68%|██████▊   | 1.96G/2.86G [00:25<00:18, 53.3MB/s]\r 69%|██████▊   | 1.96G/2.86G [00:25<00:20, 47.5MB/s]\r 69%|██████▊   | 1.97G/2.86G [00:25<00:21, 44.7MB/s]\r 69%|██████▉   | 1.97G/2.86G [00:25<00:21, 44.1MB/s]\r 69%|██████▉   | 1.98G/2.86G [00:25<00:20, 47.0MB/s]\r 69%|██████▉   | 1.99G/2.86G [00:25<00:14, 63.6MB/s]\r 70%|██████▉   | 2.00G/2.86G [00:25<00:14, 64.0MB/s]\r 70%|██████▉   | 2.00G/2.86G [00:25<00:14, 63.0MB/s]\r 70%|███████   | 2.01G/2.86G [00:26<00:15, 57.6MB/s]\r 70%|███████   | 2.02G/2.86G [00:26<00:15, 57.5MB/s]\r 71%|███████   | 2.03G/2.86G [00:26<00:13, 68.3MB/s]\r 71%|███████   | 2.04G/2.86G [00:26<00:11, 80.2MB/s]\r 72%|███████▏  | 2.05G/2.86G [00:26<00:10, 83.7MB/s]\r 72%|███████▏  | 2.06G/2.86G [00:26<00:09, 90.9MB/s]\r 72%|███████▏  | 2.07G/2.86G [00:26<00:08, 96.7MB/s]\r 73%|███████▎  | 2.08G/2.86G [00:27<00:10, 83.5MB/s]\r 73%|███████▎  | 2.10G/2.86G [00:27<00:07, 104MB/s] \r 74%|███████▎  | 2.11G/2.86G [00:27<00:08, 97.1MB/s]\r 74%|███████▍  | 2.12G/2.86G [00:27<00:09, 86.5MB/s]\r 74%|███████▍  | 2.13G/2.86G [00:27<00:08, 89.7MB/s]\r 75%|███████▍  | 2.13G/2.86G [00:27<00:08, 90.0MB/s]\r 75%|███████▍  | 2.14G/2.86G [00:27<00:09, 85.1MB/s]\r 75%|███████▌  | 2.16G/2.86G [00:28<00:11, 67.5MB/s]\r 76%|███████▌  | 2.17G/2.86G [00:28<00:08, 85.2MB/s]\r 76%|███████▌  | 2.18G/2.86G [00:28<00:09, 77.2MB/s]\r 77%|███████▋  | 2.19G/2.86G [00:28<00:09, 77.7MB/s]\r 77%|███████▋  | 2.20G/2.86G [00:28<00:07, 91.5MB/s]\r 77%|███████▋  | 2.21G/2.86G [00:28<00:10, 67.2MB/s]\r 78%|███████▊  | 2.23G/2.86G [00:28<00:08, 78.5MB/s]\r 78%|███████▊  | 2.24G/2.86G [00:29<00:10, 65.9MB/s]\r 79%|███████▊  | 2.25G/2.86G [00:29<00:08, 79.3MB/s]\r 79%|███████▉  | 2.26G/2.86G [00:29<00:07, 82.1MB/s]\r 79%|███████▉  | 2.27G/2.86G [00:29<00:07, 89.1MB/s]\r 80%|███████▉  | 2.28G/2.86G [00:29<00:06, 100MB/s] \r 80%|████████  | 2.29G/2.86G [00:29<00:06, 94.0MB/s]\r 80%|████████  | 2.30G/2.86G [00:29<00:05, 101MB/s] \r 81%|████████  | 2.32G/2.86G [00:29<00:05, 112MB/s]\r 81%|████████▏ | 2.33G/2.86G [00:30<00:05, 107MB/s]\r 82%|████████▏ | 2.34G/2.86G [00:30<00:05, 98.4MB/s]\r 82%|████████▏ | 2.35G/2.86G [00:30<00:05, 103MB/s] \r 83%|████████▎ | 2.37G/2.86G [00:30<00:04, 111MB/s]\r 83%|████████▎ | 2.38G/2.86G [00:30<00:04, 125MB/s]\r 84%|████████▎ | 2.39G/2.86G [00:30<00:04, 116MB/s]\r 84%|████████▍ | 2.41G/2.86G [00:30<00:05, 89.6MB/s]\r 84%|████████▍ | 2.42G/2.86G [00:31<00:06, 70.5MB/s]\r 85%|████████▍ | 2.43G/2.86G [00:31<00:06, 77.6MB/s]\r 85%|████████▌ | 2.44G/2.86G [00:31<00:04, 93.4MB/s]\r 86%|████████▌ | 2.46G/2.86G [00:31<00:03, 122MB/s] \r 86%|████████▋ | 2.47G/2.86G [00:31<00:03, 123MB/s]\r 87%|████████▋ | 2.49G/2.86G [00:31<00:04, 95.9MB/s]\r 87%|████████▋ | 2.50G/2.86G [00:31<00:03, 98.1MB/s]\r 88%|████████▊ | 2.51G/2.86G [00:32<00:03, 108MB/s] \r 88%|████████▊ | 2.53G/2.86G [00:32<00:03, 114MB/s]\r 89%|████████▊ | 2.54G/2.86G [00:32<00:02, 117MB/s]\r 89%|████████▉ | 2.55G/2.86G [00:32<00:02, 121MB/s]\r 90%|████████▉ | 2.57G/2.86G [00:32<00:03, 106MB/s]\r 90%|█████████ | 2.58G/2.86G [00:32<00:02, 131MB/s]\r 91%|█████████ | 2.60G/2.86G [00:32<00:02, 116MB/s]\r 91%|█████████ | 2.61G/2.86G [00:32<00:02, 115MB/s]\r 92%|█████████▏| 2.63G/2.86G [00:33<00:02, 101MB/s]\r 93%|█████████▎| 2.66G/2.86G [00:33<00:01, 122MB/s]\r 93%|█████████▎| 2.67G/2.86G [00:33<00:01, 128MB/s]\r 94%|█████████▍| 2.69G/2.86G [00:33<00:01, 118MB/s]\r 95%|█████████▍| 2.71G/2.86G [00:33<00:01, 139MB/s]\r 95%|█████████▌| 2.72G/2.86G [00:36<00:07, 21.2MB/s]\r 96%|█████████▌| 2.75G/2.86G [00:36<00:03, 33.6MB/s]\r 97%|█████████▋| 2.77G/2.86G [00:36<00:02, 38.2MB/s]\r 97%|█████████▋| 2.78G/2.86G [00:36<00:02, 38.8MB/s]\r 97%|█████████▋| 2.79G/2.86G [00:37<00:01, 42.4MB/s]\r 98%|█████████▊| 2.80G/2.86G [00:37<00:01, 44.3MB/s]\r 98%|█████████▊| 2.80G/2.86G [00:37<00:01, 45.1MB/s]\r 98%|█████████▊| 2.81G/2.86G [00:37<00:01, 44.8MB/s]\r 98%|█████████▊| 2.82G/2.86G [00:37<00:01, 47.2MB/s]\r 99%|█████████▊| 2.82G/2.86G [00:37<00:00, 44.9MB/s]\r 99%|█████████▉| 2.83G/2.86G [00:38<00:00, 46.9MB/s]\r 99%|█████████▉| 2.84G/2.86G [00:38<00:00, 48.5MB/s]\r 99%|█████████▉| 2.84G/2.86G [00:38<00:00, 47.7MB/s]\r100%|█████████▉| 2.86G/2.86G [00:38<00:00, 66.7MB/s]\r100%|██████████| 2.86G/2.86G [00:38<00:00, 79.9MB/s]\n"
          ]
        }
      ],
      "source": [
        "%%bash\n",
        "if [ -e $DATA_FOLDER/transactions.csv ]\n",
        "then\n",
        "  echo \"File already exists, no need to download.\"\n",
        "else\n",
        "  rm -rf $DATA_FOLDER\n",
        "  mkdir -p $DATA_FOLDER\n",
        "  cd $DATA_FOLDER\n",
        "  kaggle competitions download -c acquire-valued-shoppers-challenge\n",
        "  echo \"Unzip file. This may take 10 min.\"\n",
        "  unzip acquire-valued-shoppers-challenge.zip transactions.csv.gz\n",
        "  gunzip transactions.csv.gz\n",
        "fi"
      ]
    },
    {
      "cell_type": "markdown",
      "metadata": {
        "id": "V4zoAS25uj_7"
      },
      "source": [
        "### Load transaction csv"
      ]
    },
    {
      "cell_type": "code",
      "execution_count": 137,
      "metadata": {
        "id": "5tIMvE3dW1Ky"
      },
      "outputs": [],
      "source": [
        "def load_transaction_data(company):\n",
        "  all_data_filename = f'{DATA_FOLDER}/transactions.csv'\n",
        "  one_company_data_filename = f'{DATA_FOLDER}/transactions_company_{company}.csv'\n",
        "  if os.path.isfile(one_company_data_filename):\n",
        "    df = pd.read_csv(one_company_data_filename)\n",
        "  else:\n",
        "    data_list = []\n",
        "    chunksize = 10**6\n",
        "    # 350 iterations\n",
        "    for chunk in tqdm.tqdm(pd.read_csv(all_data_filename, chunksize=chunksize)):\n",
        "      data_list.append(chunk.query(\"company=={}\".format(company)))\n",
        "    df = pd.concat(data_list, axis=0)\n",
        "    df.to_csv(one_company_data_filename, index=None)\n",
        "  return df"
      ]
    },
    {
      "cell_type": "markdown",
      "metadata": {
        "id": "9ra4bfwCVwKn"
      },
      "source": [
        "### Preprocess data"
      ]
    },
    {
      "cell_type": "code",
      "execution_count": 138,
      "metadata": {
        "id": "PlJl5g9Delmi"
      },
      "outputs": [],
      "source": [
        "def preprocess(df):\n",
        "  df = df.query('purchaseamount>0')\n",
        "  df['date'] = pd.to_datetime(df['date'], format='%Y-%m-%d')\n",
        "  df['start_date'] = df.groupby('id')['date'].transform('min')\n",
        "\n",
        "  # Compute calibration values\n",
        "  calibration_value = (\n",
        "      df.query('date==start_date').groupby('id')\n",
        "      ['purchaseamount'].sum().reset_index())\n",
        "  calibration_value.columns = ['id', 'calibration_value']\n",
        "\n",
        "  # Compute holdout values\n",
        "  one_year_holdout_window_mask = (\n",
        "      (df['date'] > df['start_date']) &\n",
        "      (df['date'] <= df['start_date'] + np.timedelta64(365, 'D')))\n",
        "  holdout_value = (\n",
        "      df[one_year_holdout_window_mask].groupby('id')\n",
        "      ['purchaseamount'].sum().reset_index())\n",
        "  holdout_value.columns = ['id', 'holdout_value']\n",
        "\n",
        "  # Compute calibration attributes\n",
        "  calibration_attributes = (\n",
        "      df.query('date==start_date').sort_values(\n",
        "          'purchaseamount', ascending=False).groupby('id')[[\n",
        "              'chain', 'dept', 'category', 'brand', 'productmeasure'\n",
        "          ]].first().reset_index())\n",
        "\n",
        "  # Merge dataframes\n",
        "  customer_level_data = (\n",
        "      calibration_value.merge(calibration_attributes, how='left',\n",
        "                              on='id').merge(\n",
        "                                  holdout_value, how='left', on='id'))\n",
        "  customer_level_data['holdout_value'] = (\n",
        "      customer_level_data['holdout_value'].fillna(0.))\n",
        "  customer_level_data[CATEGORICAL_FEATURES] = (\n",
        "      customer_level_data[CATEGORICAL_FEATURES].fillna('UNKNOWN'))\n",
        "\n",
        "  # Specify data types\n",
        "  customer_level_data['log_calibration_value'] = (\n",
        "      np.log(customer_level_data['calibration_value']).astype('float32'))\n",
        "  customer_level_data['chain'] = (\n",
        "      customer_level_data['chain'].astype('category'))\n",
        "  customer_level_data['dept'] = (customer_level_data['dept'].astype('category'))\n",
        "  customer_level_data['brand'] = (\n",
        "      customer_level_data['brand'].astype('category'))\n",
        "  customer_level_data['category'] = (\n",
        "      customer_level_data['category'].astype('category'))\n",
        "  customer_level_data['label'] = (\n",
        "      customer_level_data['holdout_value'].astype('float32'))\n",
        "  return customer_level_data"
      ]
    },
    {
      "cell_type": "markdown",
      "metadata": {
        "id": "fP3q6uuMoXhA"
      },
      "source": [
        "### Load customer-level csv"
      ]
    },
    {
      "cell_type": "code",
      "execution_count": 139,
      "metadata": {
        "id": "X8B4zV1xoeMX"
      },
      "outputs": [],
      "source": [
        "def load_customer_level_csv(company):\n",
        "  customer_level_data_file = f'{DATA_FOLDER}/customer_level_data_company_{company}.csv'\n",
        "  if os.path.isfile(customer_level_data_file):\n",
        "    customer_level_data = pd.read_csv(customer_level_data_file)\n",
        "  else:\n",
        "    customer_level_data = preprocess(load_transaction_data(company))\n",
        "  for cat_col in CATEGORICAL_FEATURES:\n",
        "    customer_level_data[cat_col] = (\n",
        "        customer_level_data[cat_col].astype('category'))\n",
        "  for num_col in [\n",
        "      'log_calibration_value', 'calibration_value', 'holdout_value'\n",
        "  ]:\n",
        "    customer_level_data[num_col] = (\n",
        "        customer_level_data[num_col].astype('float32'))\n",
        "\n",
        "  return customer_level_data"
      ]
    },
    {
      "cell_type": "code",
      "execution_count": 140,
      "metadata": {
        "id": "DWwMxpIEukAE"
      },
      "outputs": [],
      "source": [
        "# Processes data. 350 iteration in total. May take 10min.\n",
        "customer_level_data = load_customer_level_csv(COMPANY)"
      ]
    },
    {
      "cell_type": "markdown",
      "metadata": {
        "id": "09tqgvANtsil"
      },
      "source": [
        "We observe a mixture of zero and lognormal distribution of holdout value."
      ]
    },
    {
      "cell_type": "code",
      "execution_count": 141,
      "metadata": {
        "id": "BtF0z3VbmGev",
        "colab": {
          "base_uri": "https://localhost:8080/",
          "height": 447
        },
        "outputId": "665bfce4-fad9-42e0-8289-1607eca44077"
      },
      "outputs": [
        {
          "output_type": "execute_result",
          "data": {
            "text/plain": [
              "<Axes: >"
            ]
          },
          "metadata": {},
          "execution_count": 141
        },
        {
          "output_type": "display_data",
          "data": {
            "text/plain": [
              "<Figure size 640x480 with 1 Axes>"
            ],
            "image/png": "[encoded data removed]"
          },
          "metadata": {}
        }
      ],
      "source": [
        "customer_level_data.label.apply(np.log1p).hist(bins=50)"
      ]
    },
    {
      "cell_type": "code",
      "source": [
        "customer_level_data"
      ],
      "metadata": {
        "colab": {
          "base_uri": "https://localhost:8080/",
          "height": 423
        },
        "id": "VuFfxJX-dIXe",
        "outputId": "bb69bcf0-8093-44a4-f1ae-eaafdac6aa20"
      },
      "execution_count": 155,
      "outputs": [
        {
          "output_type": "execute_result",
          "data": {
            "text/plain": [
              "                id  calibration_value chain dept category  brand  \\\n",
              "0            86246              11.58   205   36     3630  23359   \n",
              "1            86252               0.99   205   21     2105  14357   \n",
              "2         12262064               1.72    95   21     2105  14357   \n",
              "3         12277270               4.49    95   36     3601   3809   \n",
              "4         12332190               1.49    95   36     3611   4599   \n",
              "...            ...                ...   ...  ...      ...    ...   \n",
              "249280  4824696849               1.00    46   36     3601   3809   \n",
              "249281  4829517835               6.98    46   36     3601   3809   \n",
              "249282  4837642552               4.99    46   36     3611   4599   \n",
              "249283  4847628950              16.65   166   36     3618  23359   \n",
              "249284  4847787712               3.67    46   36     3601   3809   \n",
              "\n",
              "       productmeasure  holdout_value  log_calibration_value       label  \n",
              "0                  OZ     358.260010               2.449280  358.260010  \n",
              "1                  OZ     336.649994              -0.010050  336.649994  \n",
              "2                  OZ      32.310001               0.542324   32.310001  \n",
              "3                  OZ     186.750000               1.501853  186.750000  \n",
              "4                  OZ      53.610001               0.398776   53.610001  \n",
              "...               ...            ...                    ...         ...  \n",
              "249280             OZ       0.000000               0.000000    0.000000  \n",
              "249281             OZ       0.000000               1.943049    0.000000  \n",
              "249282             OZ      14.970000               1.607436   14.970000  \n",
              "249283             OZ      71.110001               2.812410   71.110001  \n",
              "249284             OZ       0.000000               1.300192    0.000000  \n",
              "\n",
              "[249285 rows x 10 columns]"
            ],
            "text/html": [
              "\n",
              "  <div id=\"df-622908fe-cadb-472b-9e72-5d5e277a4943\" class=\"colab-df-container\">\n",
              "    <div>\n",
              "<style scoped>\n",
              "    .dataframe tbody tr th:only-of-type {\n",
              "        vertical-align: middle;\n",
              "    }\n",
              "\n",
              "    .dataframe tbody tr th {\n",
              "        vertical-align: top;\n",
              "    }\n",
              "\n",
              "    .dataframe thead th {\n",
              "        text-align: right;\n",
              "    }\n",
              "</style>\n",
              "<table border=\"1\" class=\"dataframe\">\n",
              "  <thead>\n",
              "    <tr style=\"text-align: right;\">\n",
              "      <th></th>\n",
              "      <th>id</th>\n",
              "      <th>calibration_value</th>\n",
              "      <th>chain</th>\n",
              "      <th>dept</th>\n",
              "      <th>category</th>\n",
              "      <th>brand</th>\n",
              "      <th>productmeasure</th>\n",
              "      <th>holdout_value</th>\n",
              "      <th>log_calibration_value</th>\n",
              "      <th>label</th>\n",
              "    </tr>\n",
              "  </thead>\n",
              "  <tbody>\n",
              "    <tr>\n",
              "      <th>0</th>\n",
              "      <td>86246</td>\n",
              "      <td>11.58</td>\n",
              "      <td>205</td>\n",
              "      <td>36</td>\n",
              "      <td>3630</td>\n",
              "      <td>23359</td>\n",
              "      <td>OZ</td>\n",
              "      <td>358.260010</td>\n",
              "      <td>2.449280</td>\n",
              "      <td>358.260010</td>\n",
              "    </tr>\n",
              "    <tr>\n",
              "      <th>1</th>\n",
              "      <td>86252</td>\n",
              "      <td>0.99</td>\n",
              "      <td>205</td>\n",
              "      <td>21</td>\n",
              "      <td>2105</td>\n",
              "      <td>14357</td>\n",
              "      <td>OZ</td>\n",
              "      <td>336.649994</td>\n",
              "      <td>-0.010050</td>\n",
              "      <td>336.649994</td>\n",
              "    </tr>\n",
              "    <tr>\n",
              "      <th>2</th>\n",
              "      <td>12262064</td>\n",
              "      <td>1.72</td>\n",
              "      <td>95</td>\n",
              "      <td>21</td>\n",
              "      <td>2105</td>\n",
              "      <td>14357</td>\n",
              "      <td>OZ</td>\n",
              "      <td>32.310001</td>\n",
              "      <td>0.542324</td>\n",
              "      <td>32.310001</td>\n",
              "    </tr>\n",
              "    <tr>\n",
              "      <th>3</th>\n",
              "      <td>12277270</td>\n",
              "      <td>4.49</td>\n",
              "      <td>95</td>\n",
              "      <td>36</td>\n",
              "      <td>3601</td>\n",
              "      <td>3809</td>\n",
              "      <td>OZ</td>\n",
              "      <td>186.750000</td>\n",
              "      <td>1.501853</td>\n",
              "      <td>186.750000</td>\n",
              "    </tr>\n",
              "    <tr>\n",
              "      <th>4</th>\n",
              "      <td>12332190</td>\n",
              "      <td>1.49</td>\n",
              "      <td>95</td>\n",
              "      <td>36</td>\n",
              "      <td>3611</td>\n",
              "      <td>4599</td>\n",
              "      <td>OZ</td>\n",
              "      <td>53.610001</td>\n",
              "      <td>0.398776</td>\n",
              "      <td>53.610001</td>\n",
              "    </tr>\n",
              "    <tr>\n",
              "      <th>...</th>\n",
              "      <td>...</td>\n",
              "      <td>...</td>\n",
              "      <td>...</td>\n",
              "      <td>...</td>\n",
              "      <td>...</td>\n",
              "      <td>...</td>\n",
              "      <td>...</td>\n",
              "      <td>...</td>\n",
              "      <td>...</td>\n",
              "      <td>...</td>\n",
              "    </tr>\n",
              "    <tr>\n",
              "      <th>249280</th>\n",
              "      <td>4824696849</td>\n",
              "      <td>1.00</td>\n",
              "      <td>46</td>\n",
              "      <td>36</td>\n",
              "      <td>3601</td>\n",
              "      <td>3809</td>\n",
              "      <td>OZ</td>\n",
              "      <td>0.000000</td>\n",
              "      <td>0.000000</td>\n",
              "      <td>0.000000</td>\n",
              "    </tr>\n",
              "    <tr>\n",
              "      <th>249281</th>\n",
              "      <td>4829517835</td>\n",
              "      <td>6.98</td>\n",
              "      <td>46</td>\n",
              "      <td>36</td>\n",
              "      <td>3601</td>\n",
              "      <td>3809</td>\n",
              "      <td>OZ</td>\n",
              "      <td>0.000000</td>\n",
              "      <td>1.943049</td>\n",
              "      <td>0.000000</td>\n",
              "    </tr>\n",
              "    <tr>\n",
              "      <th>249282</th>\n",
              "      <td>4837642552</td>\n",
              "      <td>4.99</td>\n",
              "      <td>46</td>\n",
              "      <td>36</td>\n",
              "      <td>3611</td>\n",
              "      <td>4599</td>\n",
              "      <td>OZ</td>\n",
              "      <td>14.970000</td>\n",
              "      <td>1.607436</td>\n",
              "      <td>14.970000</td>\n",
              "    </tr>\n",
              "    <tr>\n",
              "      <th>249283</th>\n",
              "      <td>4847628950</td>\n",
              "      <td>16.65</td>\n",
              "      <td>166</td>\n",
              "      <td>36</td>\n",
              "      <td>3618</td>\n",
              "      <td>23359</td>\n",
              "      <td>OZ</td>\n",
              "      <td>71.110001</td>\n",
              "      <td>2.812410</td>\n",
              "      <td>71.110001</td>\n",
              "    </tr>\n",
              "    <tr>\n",
              "      <th>249284</th>\n",
              "      <td>4847787712</td>\n",
              "      <td>3.67</td>\n",
              "      <td>46</td>\n",
              "      <td>36</td>\n",
              "      <td>3601</td>\n",
              "      <td>3809</td>\n",
              "      <td>OZ</td>\n",
              "      <td>0.000000</td>\n",
              "      <td>1.300192</td>\n",
              "      <td>0.000000</td>\n",
              "    </tr>\n",
              "  </tbody>\n",
              "</table>\n",
              "<p>249285 rows × 10 columns</p>\n",
              "</div>\n",
              "    <div class=\"colab-df-buttons\">\n",
              "\n",
              "  <div class=\"colab-df-container\">\n",
              "    <button class=\"colab-df-convert\" onclick=\"convertToInteractive('df-622908fe-cadb-472b-9e72-5d5e277a4943')\"\n",
              "            title=\"Convert this dataframe to an interactive table.\"\n",
              "            style=\"display:none;\">\n",
              "\n",
              "  <svg xmlns=\"http://www.w3.org/2000/svg\" height=\"24px\" viewBox=\"0 -960 960 960\">\n",
              "    <path d=\"M120-120v-720h720v720H120Zm60-500h600v-160H180v160Zm220 220h160v-160H400v160Zm0 220h160v-160H400v160ZM180-400h160v-160H180v160Zm440 0h160v-160H620v160ZM180-180h160v-160H180v160Zm440 0h160v-160H620v160Z\"/>\n",
              "  </svg>\n",
              "    </button>\n",
              "\n",
              "  <style>\n",
              "    .colab-df-container {\n",
              "      display:flex;\n",
              "      gap: 12px;\n",
              "    }\n",
              "\n",
              "    .colab-df-convert {\n",
              "      background-color: #E8F0FE;\n",
              "      border: none;\n",
              "      border-radius: 50%;\n",
              "      cursor: pointer;\n",
              "      display: none;\n",
              "      fill: #1967D2;\n",
              "      height: 32px;\n",
              "      padding: 0 0 0 0;\n",
              "      width: 32px;\n",
              "    }\n",
              "\n",
              "    .colab-df-convert:hover {\n",
              "      background-color: #E2EBFA;\n",
              "      box-shadow: 0px 1px 2px rgba(60, 64, 67, 0.3), 0px 1px 3px 1px rgba(60, 64, 67, 0.15);\n",
              "      fill: #174EA6;\n",
              "    }\n",
              "\n",
              "    .colab-df-buttons div {\n",
              "      margin-bottom: 4px;\n",
              "    }\n",
              "\n",
              "    [theme=dark] .colab-df-convert {\n",
              "      background-color: #3B4455;\n",
              "      fill: #D2E3FC;\n",
              "    }\n",
              "\n",
              "    [theme=dark] .colab-df-convert:hover {\n",
              "      background-color: #434B5C;\n",
              "      box-shadow: 0px 1px 3px 1px rgba(0, 0, 0, 0.15);\n",
              "      filter: drop-shadow(0px 1px 2px rgba(0, 0, 0, 0.3));\n",
              "      fill: #FFFFFF;\n",
              "    }\n",
              "  </style>\n",
              "\n",
              "    <script>\n",
              "      const buttonEl =\n",
              "        document.querySelector('#df-622908fe-cadb-472b-9e72-5d5e277a4943 button.colab-df-convert');\n",
              "      buttonEl.style.display =\n",
              "        google.colab.kernel.accessAllowed ? 'block' : 'none';\n",
              "\n",
              "      async function convertToInteractive(key) {\n",
              "        const element = document.querySelector('#df-622908fe-cadb-472b-9e72-5d5e277a4943');\n",
              "        const dataTable =\n",
              "          await google.colab.kernel.invokeFunction('convertToInteractive',\n",
              "                                                    [key], {});\n",
              "        if (!dataTable) return;\n",
              "\n",
              "        const docLinkHtml = 'Like what you see? Visit the ' +\n",
              "          '<a target=\"_blank\" href=https://colab.research.google.com/notebooks/data_table.ipynb>data table notebook</a>'\n",
              "          + ' to learn more about interactive tables.';\n",
              "        element.innerHTML = '';\n",
              "        dataTable['output_type'] = 'display_data';\n",
              "        await google.colab.output.renderOutput(dataTable, element);\n",
              "        const docLink = document.createElement('div');\n",
              "        docLink.innerHTML = docLinkHtml;\n",
              "        element.appendChild(docLink);\n",
              "      }\n",
              "    </script>\n",
              "  </div>\n",
              "\n",
              "\n",
              "<div id=\"df-ca016da0-1db1-4ad4-9a9a-b625d0603d12\">\n",
              "  <button class=\"colab-df-quickchart\" onclick=\"quickchart('df-ca016da0-1db1-4ad4-9a9a-b625d0603d12')\"\n",
              "            title=\"Suggest charts\"\n",
              "            style=\"display:none;\">\n",
              "\n",
              "<svg xmlns=\"http://www.w3.org/2000/svg\" height=\"24px\"viewBox=\"0 0 24 24\"\n",
              "     width=\"24px\">\n",
              "    <g>\n",
              "        <path d=\"M19 3H5c-1.1 0-2 .9-2 2v14c0 1.1.9 2 2 2h14c1.1 0 2-.9 2-2V5c0-1.1-.9-2-2-2zM9 17H7v-7h2v7zm4 0h-2V7h2v10zm4 0h-2v-4h2v4z\"/>\n",
              "    </g>\n",
              "</svg>\n",
              "  </button>\n",
              "\n",
              "<style>\n",
              "  .colab-df-quickchart {\n",
              "      --bg-color: #E8F0FE;\n",
              "      --fill-color: #1967D2;\n",
              "      --hover-bg-color: #E2EBFA;\n",
              "      --hover-fill-color: #174EA6;\n",
              "      --disabled-fill-color: #AAA;\n",
              "      --disabled-bg-color: #DDD;\n",
              "  }\n",
              "\n",
              "  [theme=dark] .colab-df-quickchart {\n",
              "      --bg-color: #3B4455;\n",
              "      --fill-color: #D2E3FC;\n",
              "      --hover-bg-color: #434B5C;\n",
              "      --hover-fill-color: #FFFFFF;\n",
              "      --disabled-bg-color: #3B4455;\n",
              "      --disabled-fill-color: #666;\n",
              "  }\n",
              "\n",
              "  .colab-df-quickchart {\n",
              "    background-color: var(--bg-color);\n",
              "    border: none;\n",
              "    border-radius: 50%;\n",
              "    cursor: pointer;\n",
              "    display: none;\n",
              "    fill: var(--fill-color);\n",
              "    height: 32px;\n",
              "    padding: 0;\n",
              "    width: 32px;\n",
              "  }\n",
              "\n",
              "  .colab-df-quickchart:hover {\n",
              "    background-color: var(--hover-bg-color);\n",
              "    box-shadow: 0 1px 2px rgba(60, 64, 67, 0.3), 0 1px 3px 1px rgba(60, 64, 67, 0.15);\n",
              "    fill: var(--button-hover-fill-color);\n",
              "  }\n",
              "\n",
              "  .colab-df-quickchart-complete:disabled,\n",
              "  .colab-df-quickchart-complete:disabled:hover {\n",
              "    background-color: var(--disabled-bg-color);\n",
              "    fill: var(--disabled-fill-color);\n",
              "    box-shadow: none;\n",
              "  }\n",
              "\n",
              "  .colab-df-spinner {\n",
              "    border: 2px solid var(--fill-color);\n",
              "    border-color: transparent;\n",
              "    border-bottom-color: var(--fill-color);\n",
              "    animation:\n",
              "      spin 1s steps(1) infinite;\n",
              "  }\n",
              "\n",
              "  @keyframes spin {\n",
              "    0% {\n",
              "      border-color: transparent;\n",
              "      border-bottom-color: var(--fill-color);\n",
              "      border-left-color: var(--fill-color);\n",
              "    }\n",
              "    20% {\n",
              "      border-color: transparent;\n",
              "      border-left-color: var(--fill-color);\n",
              "      border-top-color: var(--fill-color);\n",
              "    }\n",
              "    30% {\n",
              "      border-color: transparent;\n",
              "      border-left-color: var(--fill-color);\n",
              "      border-top-color: var(--fill-color);\n",
              "      border-right-color: var(--fill-color);\n",
              "    }\n",
              "    40% {\n",
              "      border-color: transparent;\n",
              "      border-right-color: var(--fill-color);\n",
              "      border-top-color: var(--fill-color);\n",
              "    }\n",
              "    60% {\n",
              "      border-color: transparent;\n",
              "      border-right-color: var(--fill-color);\n",
              "    }\n",
              "    80% {\n",
              "      border-color: transparent;\n",
              "      border-right-color: var(--fill-color);\n",
              "      border-bottom-color: var(--fill-color);\n",
              "    }\n",
              "    90% {\n",
              "      border-color: transparent;\n",
              "      border-bottom-color: var(--fill-color);\n",
              "    }\n",
              "  }\n",
              "</style>\n",
              "\n",
              "  <script>\n",
              "    async function quickchart(key) {\n",
              "      const quickchartButtonEl =\n",
              "        document.querySelector('#' + key + ' button');\n",
              "      quickchartButtonEl.disabled = true;  // To prevent multiple clicks.\n",
              "      quickchartButtonEl.classList.add('colab-df-spinner');\n",
              "      try {\n",
              "        const charts = await google.colab.kernel.invokeFunction(\n",
              "            'suggestCharts', [key], {});\n",
              "      } catch (error) {\n",
              "        console.error('Error during call to suggestCharts:', error);\n",
              "      }\n",
              "      quickchartButtonEl.classList.remove('colab-df-spinner');\n",
              "      quickchartButtonEl.classList.add('colab-df-quickchart-complete');\n",
              "    }\n",
              "    (() => {\n",
              "      let quickchartButtonEl =\n",
              "        document.querySelector('#df-ca016da0-1db1-4ad4-9a9a-b625d0603d12 button');\n",
              "      quickchartButtonEl.style.display =\n",
              "        google.colab.kernel.accessAllowed ? 'block' : 'none';\n",
              "    })();\n",
              "  </script>\n",
              "</div>\n",
              "\n",
              "  <div id=\"id_0a6c2340-7598-4de9-9bf0-db25c152438d\">\n",
              "    <style>\n",
              "      .colab-df-generate {\n",
              "        background-color: #E8F0FE;\n",
              "        border: none;\n",
              "        border-radius: 50%;\n",
              "        cursor: pointer;\n",
              "        display: none;\n",
              "        fill: #1967D2;\n",
              "        height: 32px;\n",
              "        padding: 0 0 0 0;\n",
              "        width: 32px;\n",
              "      }\n",
              "\n",
              "      .colab-df-generate:hover {\n",
              "        background-color: #E2EBFA;\n",
              "        box-shadow: 0px 1px 2px rgba(60, 64, 67, 0.3), 0px 1px 3px 1px rgba(60, 64, 67, 0.15);\n",
              "        fill: #174EA6;\n",
              "      }\n",
              "\n",
              "      [theme=dark] .colab-df-generate {\n",
              "        background-color: #3B4455;\n",
              "        fill: #D2E3FC;\n",
              "      }\n",
              "\n",
              "      [theme=dark] .colab-df-generate:hover {\n",
              "        background-color: #434B5C;\n",
              "        box-shadow: 0px 1px 3px 1px rgba(0, 0, 0, 0.15);\n",
              "        filter: drop-shadow(0px 1px 2px rgba(0, 0, 0, 0.3));\n",
              "        fill: #FFFFFF;\n",
              "      }\n",
              "    </style>\n",
              "    <button class=\"colab-df-generate\" onclick=\"generateWithVariable('customer_level_data')\"\n",
              "            title=\"Generate code using this dataframe.\"\n",
              "            style=\"display:none;\">\n",
              "\n",
              "  <svg xmlns=\"http://www.w3.org/2000/svg\" height=\"24px\"viewBox=\"0 0 24 24\"\n",
              "       width=\"24px\">\n",
              "    <path d=\"M7,19H8.4L18.45,9,17,7.55,7,17.6ZM5,21V16.75L18.45,3.32a2,2,0,0,1,2.83,0l1.4,1.43a1.91,1.91,0,0,1,.58,1.4,1.91,1.91,0,0,1-.58,1.4L9.25,21ZM18.45,9,17,7.55Zm-12,3A5.31,5.31,0,0,0,4.9,8.1,5.31,5.31,0,0,0,1,6.5,5.31,5.31,0,0,0,4.9,4.9,5.31,5.31,0,0,0,6.5,1,5.31,5.31,0,0,0,8.1,4.9,5.31,5.31,0,0,0,12,6.5,5.46,5.46,0,0,0,6.5,12Z\"/>\n",
              "  </svg>\n",
              "    </button>\n",
              "    <script>\n",
              "      (() => {\n",
              "      const buttonEl =\n",
              "        document.querySelector('#id_0a6c2340-7598-4de9-9bf0-db25c152438d button.colab-df-generate');\n",
              "      buttonEl.style.display =\n",
              "        google.colab.kernel.accessAllowed ? 'block' : 'none';\n",
              "\n",
              "      buttonEl.onclick = () => {\n",
              "        google.colab.notebook.generateWithVariable('customer_level_data');\n",
              "      }\n",
              "      })();\n",
              "    </script>\n",
              "  </div>\n",
              "\n",
              "    </div>\n",
              "  </div>\n"
            ],
            "application/vnd.google.colaboratory.intrinsic+json": {
              "type": "dataframe",
              "variable_name": "customer_level_data"
            }
          },
          "metadata": {},
          "execution_count": 155
        }
      ]
    },
    {
      "cell_type": "code",
      "execution_count": 156,
      "metadata": {
        "id": "wLpgjEuofbdy",
        "colab": {
          "base_uri": "https://localhost:8080/",
          "height": 363
        },
        "outputId": "da210108-615d-4671-c858-59def6683a49"
      },
      "outputs": [
        {
          "output_type": "execute_result",
          "data": {
            "text/plain": [
              "                               0           1          2         3          4\n",
              "id                         86246       86252   12262064  12277270   12332190\n",
              "calibration_value          11.58        0.99       1.72      4.49       1.49\n",
              "chain                        205         205         95        95         95\n",
              "dept                          36          21         21        36         36\n",
              "category                    3630        2105       2105      3601       3611\n",
              "brand                      23359       14357      14357      3809       4599\n",
              "productmeasure                OZ          OZ         OZ        OZ         OZ\n",
              "holdout_value          358.26001  336.649994  32.310001    186.75  53.610001\n",
              "log_calibration_value    2.44928    -0.01005   0.542324  1.501853   0.398776\n",
              "label                  358.26001  336.649994  32.310001    186.75  53.610001"
            ],
            "text/html": [
              "\n",
              "  <div id=\"df-77c618e4-170e-4719-ae80-127eb8973ffa\" class=\"colab-df-container\">\n",
              "    <div>\n",
              "<style scoped>\n",
              "    .dataframe tbody tr th:only-of-type {\n",
              "        vertical-align: middle;\n",
              "    }\n",
              "\n",
              "    .dataframe tbody tr th {\n",
              "        vertical-align: top;\n",
              "    }\n",
              "\n",
              "    .dataframe thead th {\n",
              "        text-align: right;\n",
              "    }\n",
              "</style>\n",
              "<table border=\"1\" class=\"dataframe\">\n",
              "  <thead>\n",
              "    <tr style=\"text-align: right;\">\n",
              "      <th></th>\n",
              "      <th>0</th>\n",
              "      <th>1</th>\n",
              "      <th>2</th>\n",
              "      <th>3</th>\n",
              "      <th>4</th>\n",
              "    </tr>\n",
              "  </thead>\n",
              "  <tbody>\n",
              "    <tr>\n",
              "      <th>id</th>\n",
              "      <td>86246</td>\n",
              "      <td>86252</td>\n",
              "      <td>12262064</td>\n",
              "      <td>12277270</td>\n",
              "      <td>12332190</td>\n",
              "    </tr>\n",
              "    <tr>\n",
              "      <th>calibration_value</th>\n",
              "      <td>11.58</td>\n",
              "      <td>0.99</td>\n",
              "      <td>1.72</td>\n",
              "      <td>4.49</td>\n",
              "      <td>1.49</td>\n",
              "    </tr>\n",
              "    <tr>\n",
              "      <th>chain</th>\n",
              "      <td>205</td>\n",
              "      <td>205</td>\n",
              "      <td>95</td>\n",
              "      <td>95</td>\n",
              "      <td>95</td>\n",
              "    </tr>\n",
              "    <tr>\n",
              "      <th>dept</th>\n",
              "      <td>36</td>\n",
              "      <td>21</td>\n",
              "      <td>21</td>\n",
              "      <td>36</td>\n",
              "      <td>36</td>\n",
              "    </tr>\n",
              "    <tr>\n",
              "      <th>category</th>\n",
              "      <td>3630</td>\n",
              "      <td>2105</td>\n",
              "      <td>2105</td>\n",
              "      <td>3601</td>\n",
              "      <td>3611</td>\n",
              "    </tr>\n",
              "    <tr>\n",
              "      <th>brand</th>\n",
              "      <td>23359</td>\n",
              "      <td>14357</td>\n",
              "      <td>14357</td>\n",
              "      <td>3809</td>\n",
              "      <td>4599</td>\n",
              "    </tr>\n",
              "    <tr>\n",
              "      <th>productmeasure</th>\n",
              "      <td>OZ</td>\n",
              "      <td>OZ</td>\n",
              "      <td>OZ</td>\n",
              "      <td>OZ</td>\n",
              "      <td>OZ</td>\n",
              "    </tr>\n",
              "    <tr>\n",
              "      <th>holdout_value</th>\n",
              "      <td>358.26001</td>\n",
              "      <td>336.649994</td>\n",
              "      <td>32.310001</td>\n",
              "      <td>186.75</td>\n",
              "      <td>53.610001</td>\n",
              "    </tr>\n",
              "    <tr>\n",
              "      <th>log_calibration_value</th>\n",
              "      <td>2.44928</td>\n",
              "      <td>-0.01005</td>\n",
              "      <td>0.542324</td>\n",
              "      <td>1.501853</td>\n",
              "      <td>0.398776</td>\n",
              "    </tr>\n",
              "    <tr>\n",
              "      <th>label</th>\n",
              "      <td>358.26001</td>\n",
              "      <td>336.649994</td>\n",
              "      <td>32.310001</td>\n",
              "      <td>186.75</td>\n",
              "      <td>53.610001</td>\n",
              "    </tr>\n",
              "  </tbody>\n",
              "</table>\n",
              "</div>\n",
              "    <div class=\"colab-df-buttons\">\n",
              "\n",
              "  <div class=\"colab-df-container\">\n",
              "    <button class=\"colab-df-convert\" onclick=\"convertToInteractive('df-77c618e4-170e-4719-ae80-127eb8973ffa')\"\n",
              "            title=\"Convert this dataframe to an interactive table.\"\n",
              "            style=\"display:none;\">\n",
              "\n",
              "  <svg xmlns=\"http://www.w3.org/2000/svg\" height=\"24px\" viewBox=\"0 -960 960 960\">\n",
              "    <path d=\"M120-120v-720h720v720H120Zm60-500h600v-160H180v160Zm220 220h160v-160H400v160Zm0 220h160v-160H400v160ZM180-400h160v-160H180v160Zm440 0h160v-160H620v160ZM180-180h160v-160H180v160Zm440 0h160v-160H620v160Z\"/>\n",
              "  </svg>\n",
              "    </button>\n",
              "\n",
              "  <style>\n",
              "    .colab-df-container {\n",
              "      display:flex;\n",
              "      gap: 12px;\n",
              "    }\n",
              "\n",
              "    .colab-df-convert {\n",
              "      background-color: #E8F0FE;\n",
              "      border: none;\n",
              "      border-radius: 50%;\n",
              "      cursor: pointer;\n",
              "      display: none;\n",
              "      fill: #1967D2;\n",
              "      height: 32px;\n",
              "      padding: 0 0 0 0;\n",
              "      width: 32px;\n",
              "    }\n",
              "\n",
              "    .colab-df-convert:hover {\n",
              "      background-color: #E2EBFA;\n",
              "      box-shadow: 0px 1px 2px rgba(60, 64, 67, 0.3), 0px 1px 3px 1px rgba(60, 64, 67, 0.15);\n",
              "      fill: #174EA6;\n",
              "    }\n",
              "\n",
              "    .colab-df-buttons div {\n",
              "      margin-bottom: 4px;\n",
              "    }\n",
              "\n",
              "    [theme=dark] .colab-df-convert {\n",
              "      background-color: #3B4455;\n",
              "      fill: #D2E3FC;\n",
              "    }\n",
              "\n",
              "    [theme=dark] .colab-df-convert:hover {\n",
              "      background-color: #434B5C;\n",
              "      box-shadow: 0px 1px 3px 1px rgba(0, 0, 0, 0.15);\n",
              "      filter: drop-shadow(0px 1px 2px rgba(0, 0, 0, 0.3));\n",
              "      fill: #FFFFFF;\n",
              "    }\n",
              "  </style>\n",
              "\n",
              "    <script>\n",
              "      const buttonEl =\n",
              "        document.querySelector('#df-77c618e4-170e-4719-ae80-127eb8973ffa button.colab-df-convert');\n",
              "      buttonEl.style.display =\n",
              "        google.colab.kernel.accessAllowed ? 'block' : 'none';\n",
              "\n",
              "      async function convertToInteractive(key) {\n",
              "        const element = document.querySelector('#df-77c618e4-170e-4719-ae80-127eb8973ffa');\n",
              "        const dataTable =\n",
              "          await google.colab.kernel.invokeFunction('convertToInteractive',\n",
              "                                                    [key], {});\n",
              "        if (!dataTable) return;\n",
              "\n",
              "        const docLinkHtml = 'Like what you see? Visit the ' +\n",
              "          '<a target=\"_blank\" href=https://colab.research.google.com/notebooks/data_table.ipynb>data table notebook</a>'\n",
              "          + ' to learn more about interactive tables.';\n",
              "        element.innerHTML = '';\n",
              "        dataTable['output_type'] = 'display_data';\n",
              "        await google.colab.output.renderOutput(dataTable, element);\n",
              "        const docLink = document.createElement('div');\n",
              "        docLink.innerHTML = docLinkHtml;\n",
              "        element.appendChild(docLink);\n",
              "      }\n",
              "    </script>\n",
              "  </div>\n",
              "\n",
              "\n",
              "<div id=\"df-9b7bd817-e1b7-4adb-908c-1763582aed05\">\n",
              "  <button class=\"colab-df-quickchart\" onclick=\"quickchart('df-9b7bd817-e1b7-4adb-908c-1763582aed05')\"\n",
              "            title=\"Suggest charts\"\n",
              "            style=\"display:none;\">\n",
              "\n",
              "<svg xmlns=\"http://www.w3.org/2000/svg\" height=\"24px\"viewBox=\"0 0 24 24\"\n",
              "     width=\"24px\">\n",
              "    <g>\n",
              "        <path d=\"M19 3H5c-1.1 0-2 .9-2 2v14c0 1.1.9 2 2 2h14c1.1 0 2-.9 2-2V5c0-1.1-.9-2-2-2zM9 17H7v-7h2v7zm4 0h-2V7h2v10zm4 0h-2v-4h2v4z\"/>\n",
              "    </g>\n",
              "</svg>\n",
              "  </button>\n",
              "\n",
              "<style>\n",
              "  .colab-df-quickchart {\n",
              "      --bg-color: #E8F0FE;\n",
              "      --fill-color: #1967D2;\n",
              "      --hover-bg-color: #E2EBFA;\n",
              "      --hover-fill-color: #174EA6;\n",
              "      --disabled-fill-color: #AAA;\n",
              "      --disabled-bg-color: #DDD;\n",
              "  }\n",
              "\n",
              "  [theme=dark] .colab-df-quickchart {\n",
              "      --bg-color: #3B4455;\n",
              "      --fill-color: #D2E3FC;\n",
              "      --hover-bg-color: #434B5C;\n",
              "      --hover-fill-color: #FFFFFF;\n",
              "      --disabled-bg-color: #3B4455;\n",
              "      --disabled-fill-color: #666;\n",
              "  }\n",
              "\n",
              "  .colab-df-quickchart {\n",
              "    background-color: var(--bg-color);\n",
              "    border: none;\n",
              "    border-radius: 50%;\n",
              "    cursor: pointer;\n",
              "    display: none;\n",
              "    fill: var(--fill-color);\n",
              "    height: 32px;\n",
              "    padding: 0;\n",
              "    width: 32px;\n",
              "  }\n",
              "\n",
              "  .colab-df-quickchart:hover {\n",
              "    background-color: var(--hover-bg-color);\n",
              "    box-shadow: 0 1px 2px rgba(60, 64, 67, 0.3), 0 1px 3px 1px rgba(60, 64, 67, 0.15);\n",
              "    fill: var(--button-hover-fill-color);\n",
              "  }\n",
              "\n",
              "  .colab-df-quickchart-complete:disabled,\n",
              "  .colab-df-quickchart-complete:disabled:hover {\n",
              "    background-color: var(--disabled-bg-color);\n",
              "    fill: var(--disabled-fill-color);\n",
              "    box-shadow: none;\n",
              "  }\n",
              "\n",
              "  .colab-df-spinner {\n",
              "    border: 2px solid var(--fill-color);\n",
              "    border-color: transparent;\n",
              "    border-bottom-color: var(--fill-color);\n",
              "    animation:\n",
              "      spin 1s steps(1) infinite;\n",
              "  }\n",
              "\n",
              "  @keyframes spin {\n",
              "    0% {\n",
              "      border-color: transparent;\n",
              "      border-bottom-color: var(--fill-color);\n",
              "      border-left-color: var(--fill-color);\n",
              "    }\n",
              "    20% {\n",
              "      border-color: transparent;\n",
              "      border-left-color: var(--fill-color);\n",
              "      border-top-color: var(--fill-color);\n",
              "    }\n",
              "    30% {\n",
              "      border-color: transparent;\n",
              "      border-left-color: var(--fill-color);\n",
              "      border-top-color: var(--fill-color);\n",
              "      border-right-color: var(--fill-color);\n",
              "    }\n",
              "    40% {\n",
              "      border-color: transparent;\n",
              "      border-right-color: var(--fill-color);\n",
              "      border-top-color: var(--fill-color);\n",
              "    }\n",
              "    60% {\n",
              "      border-color: transparent;\n",
              "      border-right-color: var(--fill-color);\n",
              "    }\n",
              "    80% {\n",
              "      border-color: transparent;\n",
              "      border-right-color: var(--fill-color);\n",
              "      border-bottom-color: var(--fill-color);\n",
              "    }\n",
              "    90% {\n",
              "      border-color: transparent;\n",
              "      border-bottom-color: var(--fill-color);\n",
              "    }\n",
              "  }\n",
              "</style>\n",
              "\n",
              "  <script>\n",
              "    async function quickchart(key) {\n",
              "      const quickchartButtonEl =\n",
              "        document.querySelector('#' + key + ' button');\n",
              "      quickchartButtonEl.disabled = true;  // To prevent multiple clicks.\n",
              "      quickchartButtonEl.classList.add('colab-df-spinner');\n",
              "      try {\n",
              "        const charts = await google.colab.kernel.invokeFunction(\n",
              "            'suggestCharts', [key], {});\n",
              "      } catch (error) {\n",
              "        console.error('Error during call to suggestCharts:', error);\n",
              "      }\n",
              "      quickchartButtonEl.classList.remove('colab-df-spinner');\n",
              "      quickchartButtonEl.classList.add('colab-df-quickchart-complete');\n",
              "    }\n",
              "    (() => {\n",
              "      let quickchartButtonEl =\n",
              "        document.querySelector('#df-9b7bd817-e1b7-4adb-908c-1763582aed05 button');\n",
              "      quickchartButtonEl.style.display =\n",
              "        google.colab.kernel.accessAllowed ? 'block' : 'none';\n",
              "    })();\n",
              "  </script>\n",
              "</div>\n",
              "\n",
              "    </div>\n",
              "  </div>\n"
            ],
            "application/vnd.google.colaboratory.intrinsic+json": {
              "type": "dataframe",
              "variable_name": "customer_level_data"
            }
          },
          "metadata": {},
          "execution_count": 156
        }
      ],
      "source": [
        "customer_level_data.head().T"
      ]
    },
    {
      "cell_type": "markdown",
      "metadata": {
        "id": "slIDJAaTcQeK"
      },
      "source": [
        "## Data"
      ]
    },
    {
      "cell_type": "markdown",
      "metadata": {
        "id": "i4kN0uk4kZ68"
      },
      "source": [
        "### Make train/eval"
      ]
    },
    {
      "cell_type": "code",
      "execution_count": 157,
      "metadata": {
        "id": "JjP5v6NiQfCX"
      },
      "outputs": [],
      "source": [
        "def linear_split(df):\n",
        "  # get_dummies preserves numeric features.\n",
        "  x = pd.get_dummies(df[ALL_FEATURES], drop_first=True).astype('float32').values\n",
        "  y = df['label'].values\n",
        "\n",
        "  x_train, x_eval, y_train, y_eval = model_selection.train_test_split(\n",
        "      x, y, test_size=0.2, random_state=123)\n",
        "\n",
        "  return x_train, x_eval, y_train, y_eval"
      ]
    },
    {
      "cell_type": "code",
      "execution_count": 158,
      "metadata": {
        "id": "KtWXwORJjaP4"
      },
      "outputs": [],
      "source": [
        "def dnn_split(df):\n",
        "    encoder_dir = 'encoders'\n",
        "    os.makedirs(encoder_dir, exist_ok=True)\n",
        "\n",
        "    # Dictionary to store encoders\n",
        "    encoders = {}\n",
        "    for key in CATEGORICAL_FEATURES:\n",
        "      encoder = preprocessing.LabelEncoder()\n",
        "      df[key] = encoder.fit_transform(df[key])\n",
        "      with open(os.path.join(encoder_dir, f\"{key}_encoder.pkl\"), 'wb') as f:\n",
        "            pickle.dump(encoder, f)\n",
        "\n",
        "      encoders[key] = encoder\n",
        "\n",
        "    df_train, df_eval = model_selection.train_test_split(\n",
        "        df, test_size=0.2, random_state=123)\n",
        "\n",
        "    def feature_dict(df):\n",
        "      features = {k: v.values for k, v in dict(df[CATEGORICAL_FEATURES]).items()}\n",
        "      features['numeric'] = df[NUMERIC_FEATURES].values\n",
        "      return features\n",
        "\n",
        "    x_train, y_train = feature_dict(df_train), df_train['label'].values\n",
        "    x_eval, y_eval = feature_dict(df_eval), df_eval['label'].values\n",
        "\n",
        "    return x_train, x_eval, y_train, y_eval"
      ]
    },
    {
      "cell_type": "code",
      "source": [
        "# def dnn_split(df, categorical_features, numeric_features, label_column):\n",
        "#     # Directory to save encoders\n",
        "#     encoder_dir = 'encoders'\n",
        "#     os.makedirs(encoder_dir, exist_ok=True)\n",
        "\n",
        "#     # Dictionary to store encoders\n",
        "#     encoders = {}\n",
        "\n",
        "#     # Apply LabelEncoder to categorical features and save encoders\n",
        "#     for key in categorical_features:\n",
        "#         encoder = preprocessing.LabelEncoder()\n",
        "#         df[key] = encoder.fit_transform(df[key])\n",
        "\n",
        "#         # Save the encoder for later use\n",
        "#         with open(os.path.join(encoder_dir, f\"{key}_encoder.pkl\"), 'wb') as f:\n",
        "#             pickle.dump(encoder, f)\n",
        "\n",
        "#         # Store the encoder in the dictionary\n",
        "#         encoders[key] = encoder\n",
        "\n",
        "#     # Split the dataset into training and evaluation sets\n",
        "#     df_train, df_eval = model_selection.train_test_split(df, test_size=0.2, random_state=123)\n",
        "\n",
        "#     def feature_dict(df):\n",
        "#         features = {k: v.values for k, v in dict(df[categorical_features]).items()}\n",
        "#         features['numeric'] = df[numeric_features].values\n",
        "#         return features\n",
        "\n",
        "#     x_train, y_train = feature_dict(df_train), df_train[label_column].values\n",
        "#     x_eval, y_eval = feature_dict(df_eval), df_eval[label_column].values\n",
        "\n",
        "#     return x_train, x_eval, y_train, y_eval, encoders"
      ],
      "metadata": {
        "id": "rBSQpjnYY8yy"
      },
      "execution_count": 159,
      "outputs": []
    },
    {
      "cell_type": "markdown",
      "metadata": {
        "id": "lqbShWBzR4NE"
      },
      "source": [
        "## Model"
      ]
    },
    {
      "cell_type": "code",
      "execution_count": 160,
      "metadata": {
        "id": "Yh4Y4a89ooP3"
      },
      "outputs": [],
      "source": [
        "def linear_model(output_units, input_dim):\n",
        "  return tf.keras.Sequential([\n",
        "    tf.keras.layers.Input(shape=(input_dim,)),\n",
        "    tf.keras.layers.Dense(output_units, activation=None)\n",
        "  ])"
      ]
    },
    {
      "cell_type": "code",
      "execution_count": 161,
      "metadata": {
        "id": "W8yo3HLtrAE_"
      },
      "outputs": [],
      "source": [
        "def embedding_dim(x):\n",
        "  return int(x**.25) + 1\n",
        "\n",
        "\n",
        "def embedding_layer(vocab_size):\n",
        "  return tf.keras.Sequential([\n",
        "      tf.keras.layers.Embedding(\n",
        "          input_dim=vocab_size,\n",
        "          output_dim=embedding_dim(vocab_size)\n",
        "      ),\n",
        "      tf.keras.layers.Flatten(),\n",
        "  ])\n",
        "\n",
        "\n",
        "def dnn_model(output_units, df):\n",
        "  numeric_input = tf.keras.layers.Input(\n",
        "      shape=(len(NUMERIC_FEATURES),), name='numeric')\n",
        "\n",
        "  embedding_inputs = [\n",
        "      tf.keras.layers.Input(shape=(1,), name=key, dtype=np.int64)\n",
        "      for key in CATEGORICAL_FEATURES\n",
        "  ]\n",
        "\n",
        "  embedding_outputs = [\n",
        "      # embedding_layer(vocab_size=df[key].nunique())(input)\n",
        "      embedding_layer(vocab_size=134)(input)\n",
        "      for key, input in zip(CATEGORICAL_FEATURES, embedding_inputs)\n",
        "  ]\n",
        "\n",
        "  deep_input = tf.keras.layers.concatenate([numeric_input] + embedding_outputs)\n",
        "  deep_model = tf.keras.Sequential([\n",
        "      tf.keras.layers.Dense(64, activation='relu'),\n",
        "      tf.keras.layers.Dense(32, activation='relu'),\n",
        "      tf.keras.layers.Dense(output_units),\n",
        "  ])\n",
        "  return tf.keras.Model(\n",
        "      inputs=[numeric_input] + embedding_inputs, outputs=deep_model(deep_input))"
      ]
    },
    {
      "cell_type": "markdown",
      "metadata": {
        "id": "U8l-KzZ12fbK"
      },
      "source": [
        "### Train"
      ]
    },
    {
      "cell_type": "code",
      "execution_count": 162,
      "metadata": {
        "id": "45BHY6q7rQmI"
      },
      "outputs": [],
      "source": [
        "if LOSS == 'bce':\n",
        "  loss = keras.losses.BinaryCrossentropy(from_logits=True)\n",
        "  output_units = 1\n",
        "\n",
        "if LOSS == 'ziln':\n",
        "  loss = zero_inflated_lognormal_loss\n",
        "  output_units = 3"
      ]
    },
    {
      "cell_type": "code",
      "execution_count": 163,
      "metadata": {
        "id": "7Jeou8bGrhll"
      },
      "outputs": [],
      "source": [
        "if MODEL == 'linear':\n",
        "  x_train, x_eval, y_train, y_eval = linear_split(customer_level_data)\n",
        "  model = linear_model(output_units, x_train.shape[1])\n",
        "\n",
        "if MODEL == 'dnn':\n",
        "  x_train, x_eval, y_train, y_eval = dnn_split(customer_level_data)\n",
        "  model = dnn_model(output_units, customer_level_data)"
      ]
    },
    {
      "cell_type": "code",
      "execution_count": 164,
      "metadata": {
        "id": "uF2IdTpAwiZV"
      },
      "outputs": [],
      "source": [
        "if LOSS == 'bce':\n",
        "  y_train = (y_train > 0).astype('float32')\n",
        "  y_eval = (y_eval > 0).astype('float32')"
      ]
    },
    {
      "cell_type": "code",
      "execution_count": 165,
      "metadata": {
        "id": "_GQ-RlIAfT62"
      },
      "outputs": [],
      "source": [
        "model.compile(loss=loss, optimizer=keras.optimizers.Adam(learning_rate=LEARNING_RATE))"
      ]
    },
    {
      "cell_type": "code",
      "execution_count": 166,
      "metadata": {
        "id": "chEIOzq6rlJx"
      },
      "outputs": [],
      "source": [
        "callbacks = [\n",
        "    tf.keras.callbacks.ReduceLROnPlateau(monitor='val_loss', min_lr=1e-6),\n",
        "    tf.keras.callbacks.EarlyStopping(monitor='val_loss', patience=10),\n",
        "]"
      ]
    },
    {
      "cell_type": "code",
      "execution_count": 167,
      "metadata": {
        "id": "ObMqySkBZYwP",
        "colab": {
          "base_uri": "https://localhost:8080/"
        },
        "outputId": "bd698b18-9702-430c-d519-c44aa93ba818"
      },
      "outputs": [
        {
          "output_type": "stream",
          "name": "stdout",
          "text": [
            "chain max value after encoding: 132\n",
            "dept max value after encoding: 3\n",
            "category max value after encoding: 19\n",
            "brand max value after encoding: 20\n",
            "productmeasure max value after encoding: 0\n"
          ]
        }
      ],
      "source": [
        "for key in CATEGORICAL_FEATURES:\n",
        "    print(f\"{key} max value after encoding: {customer_level_data[key].max()}\")"
      ]
    },
    {
      "cell_type": "code",
      "execution_count": 168,
      "metadata": {
        "id": "ujwn_-6GZbRM",
        "colab": {
          "base_uri": "https://localhost:8080/"
        },
        "outputId": "45660db6-326d-4134-da6b-6f0abd99b743"
      },
      "outputs": [
        {
          "output_type": "stream",
          "name": "stdout",
          "text": [
            "chain vocab size: 133\n",
            "dept vocab size: 4\n",
            "category vocab size: 20\n",
            "brand vocab size: 21\n",
            "productmeasure vocab size: 1\n"
          ]
        }
      ],
      "source": [
        "for key in CATEGORICAL_FEATURES:\n",
        "    print(f\"{key} vocab size: {customer_level_data[key].nunique()}\")"
      ]
    },
    {
      "cell_type": "code",
      "execution_count": 169,
      "metadata": {
        "id": "DeR1Bb8hj28X",
        "colab": {
          "base_uri": "https://localhost:8080/",
          "height": 423
        },
        "outputId": "5319ab1d-afd4-47d0-8365-d2e84c29b104"
      },
      "outputs": [
        {
          "output_type": "execute_result",
          "data": {
            "text/plain": [
              "                id  calibration_value  chain  dept  category  brand  \\\n",
              "0            86246              11.58     69     3        14     14   \n",
              "1            86252               0.99     69     2         2     10   \n",
              "2         12262064               1.72     39     2         2     10   \n",
              "3         12277270               4.49     39     3         4      1   \n",
              "4         12332190               1.49     39     3         6      2   \n",
              "...            ...                ...    ...   ...       ...    ...   \n",
              "249280  4824696849               1.00     21     3         4      1   \n",
              "249281  4829517835               6.98     21     3         4      1   \n",
              "249282  4837642552               4.99     21     3         6      2   \n",
              "249283  4847628950              16.65     62     3         8     14   \n",
              "249284  4847787712               3.67     21     3         4      1   \n",
              "\n",
              "        productmeasure  holdout_value  log_calibration_value       label  \n",
              "0                    0     358.260010               2.449280  358.260010  \n",
              "1                    0     336.649994              -0.010050  336.649994  \n",
              "2                    0      32.310001               0.542324   32.310001  \n",
              "3                    0     186.750000               1.501853  186.750000  \n",
              "4                    0      53.610001               0.398776   53.610001  \n",
              "...                ...            ...                    ...         ...  \n",
              "249280               0       0.000000               0.000000    0.000000  \n",
              "249281               0       0.000000               1.943049    0.000000  \n",
              "249282               0      14.970000               1.607436   14.970000  \n",
              "249283               0      71.110001               2.812410   71.110001  \n",
              "249284               0       0.000000               1.300192    0.000000  \n",
              "\n",
              "[249285 rows x 10 columns]"
            ],
            "text/html": [
              "\n",
              "  <div id=\"df-f28b05f2-7a79-4519-977d-b82cb41402e2\" class=\"colab-df-container\">\n",
              "    <div>\n",
              "<style scoped>\n",
              "    .dataframe tbody tr th:only-of-type {\n",
              "        vertical-align: middle;\n",
              "    }\n",
              "\n",
              "    .dataframe tbody tr th {\n",
              "        vertical-align: top;\n",
              "    }\n",
              "\n",
              "    .dataframe thead th {\n",
              "        text-align: right;\n",
              "    }\n",
              "</style>\n",
              "<table border=\"1\" class=\"dataframe\">\n",
              "  <thead>\n",
              "    <tr style=\"text-align: right;\">\n",
              "      <th></th>\n",
              "      <th>id</th>\n",
              "      <th>calibration_value</th>\n",
              "      <th>chain</th>\n",
              "      <th>dept</th>\n",
              "      <th>category</th>\n",
              "      <th>brand</th>\n",
              "      <th>productmeasure</th>\n",
              "      <th>holdout_value</th>\n",
              "      <th>log_calibration_value</th>\n",
              "      <th>label</th>\n",
              "    </tr>\n",
              "  </thead>\n",
              "  <tbody>\n",
              "    <tr>\n",
              "      <th>0</th>\n",
              "      <td>86246</td>\n",
              "      <td>11.58</td>\n",
              "      <td>69</td>\n",
              "      <td>3</td>\n",
              "      <td>14</td>\n",
              "      <td>14</td>\n",
              "      <td>0</td>\n",
              "      <td>358.260010</td>\n",
              "      <td>2.449280</td>\n",
              "      <td>358.260010</td>\n",
              "    </tr>\n",
              "    <tr>\n",
              "      <th>1</th>\n",
              "      <td>86252</td>\n",
              "      <td>0.99</td>\n",
              "      <td>69</td>\n",
              "      <td>2</td>\n",
              "      <td>2</td>\n",
              "      <td>10</td>\n",
              "      <td>0</td>\n",
              "      <td>336.649994</td>\n",
              "      <td>-0.010050</td>\n",
              "      <td>336.649994</td>\n",
              "    </tr>\n",
              "    <tr>\n",
              "      <th>2</th>\n",
              "      <td>12262064</td>\n",
              "      <td>1.72</td>\n",
              "      <td>39</td>\n",
              "      <td>2</td>\n",
              "      <td>2</td>\n",
              "      <td>10</td>\n",
              "      <td>0</td>\n",
              "      <td>32.310001</td>\n",
              "      <td>0.542324</td>\n",
              "      <td>32.310001</td>\n",
              "    </tr>\n",
              "    <tr>\n",
              "      <th>3</th>\n",
              "      <td>12277270</td>\n",
              "      <td>4.49</td>\n",
              "      <td>39</td>\n",
              "      <td>3</td>\n",
              "      <td>4</td>\n",
              "      <td>1</td>\n",
              "      <td>0</td>\n",
              "      <td>186.750000</td>\n",
              "      <td>1.501853</td>\n",
              "      <td>186.750000</td>\n",
              "    </tr>\n",
              "    <tr>\n",
              "      <th>4</th>\n",
              "      <td>12332190</td>\n",
              "      <td>1.49</td>\n",
              "      <td>39</td>\n",
              "      <td>3</td>\n",
              "      <td>6</td>\n",
              "      <td>2</td>\n",
              "      <td>0</td>\n",
              "      <td>53.610001</td>\n",
              "      <td>0.398776</td>\n",
              "      <td>53.610001</td>\n",
              "    </tr>\n",
              "    <tr>\n",
              "      <th>...</th>\n",
              "      <td>...</td>\n",
              "      <td>...</td>\n",
              "      <td>...</td>\n",
              "      <td>...</td>\n",
              "      <td>...</td>\n",
              "      <td>...</td>\n",
              "      <td>...</td>\n",
              "      <td>...</td>\n",
              "      <td>...</td>\n",
              "      <td>...</td>\n",
              "    </tr>\n",
              "    <tr>\n",
              "      <th>249280</th>\n",
              "      <td>4824696849</td>\n",
              "      <td>1.00</td>\n",
              "      <td>21</td>\n",
              "      <td>3</td>\n",
              "      <td>4</td>\n",
              "      <td>1</td>\n",
              "      <td>0</td>\n",
              "      <td>0.000000</td>\n",
              "      <td>0.000000</td>\n",
              "      <td>0.000000</td>\n",
              "    </tr>\n",
              "    <tr>\n",
              "      <th>249281</th>\n",
              "      <td>4829517835</td>\n",
              "      <td>6.98</td>\n",
              "      <td>21</td>\n",
              "      <td>3</td>\n",
              "      <td>4</td>\n",
              "      <td>1</td>\n",
              "      <td>0</td>\n",
              "      <td>0.000000</td>\n",
              "      <td>1.943049</td>\n",
              "      <td>0.000000</td>\n",
              "    </tr>\n",
              "    <tr>\n",
              "      <th>249282</th>\n",
              "      <td>4837642552</td>\n",
              "      <td>4.99</td>\n",
              "      <td>21</td>\n",
              "      <td>3</td>\n",
              "      <td>6</td>\n",
              "      <td>2</td>\n",
              "      <td>0</td>\n",
              "      <td>14.970000</td>\n",
              "      <td>1.607436</td>\n",
              "      <td>14.970000</td>\n",
              "    </tr>\n",
              "    <tr>\n",
              "      <th>249283</th>\n",
              "      <td>4847628950</td>\n",
              "      <td>16.65</td>\n",
              "      <td>62</td>\n",
              "      <td>3</td>\n",
              "      <td>8</td>\n",
              "      <td>14</td>\n",
              "      <td>0</td>\n",
              "      <td>71.110001</td>\n",
              "      <td>2.812410</td>\n",
              "      <td>71.110001</td>\n",
              "    </tr>\n",
              "    <tr>\n",
              "      <th>249284</th>\n",
              "      <td>4847787712</td>\n",
              "      <td>3.67</td>\n",
              "      <td>21</td>\n",
              "      <td>3</td>\n",
              "      <td>4</td>\n",
              "      <td>1</td>\n",
              "      <td>0</td>\n",
              "      <td>0.000000</td>\n",
              "      <td>1.300192</td>\n",
              "      <td>0.000000</td>\n",
              "    </tr>\n",
              "  </tbody>\n",
              "</table>\n",
              "<p>249285 rows × 10 columns</p>\n",
              "</div>\n",
              "    <div class=\"colab-df-buttons\">\n",
              "\n",
              "  <div class=\"colab-df-container\">\n",
              "    <button class=\"colab-df-convert\" onclick=\"convertToInteractive('df-f28b05f2-7a79-4519-977d-b82cb41402e2')\"\n",
              "            title=\"Convert this dataframe to an interactive table.\"\n",
              "            style=\"display:none;\">\n",
              "\n",
              "  <svg xmlns=\"http://www.w3.org/2000/svg\" height=\"24px\" viewBox=\"0 -960 960 960\">\n",
              "    <path d=\"M120-120v-720h720v720H120Zm60-500h600v-160H180v160Zm220 220h160v-160H400v160Zm0 220h160v-160H400v160ZM180-400h160v-160H180v160Zm440 0h160v-160H620v160ZM180-180h160v-160H180v160Zm440 0h160v-160H620v160Z\"/>\n",
              "  </svg>\n",
              "    </button>\n",
              "\n",
              "  <style>\n",
              "    .colab-df-container {\n",
              "      display:flex;\n",
              "      gap: 12px;\n",
              "    }\n",
              "\n",
              "    .colab-df-convert {\n",
              "      background-color: #E8F0FE;\n",
              "      border: none;\n",
              "      border-radius: 50%;\n",
              "      cursor: pointer;\n",
              "      display: none;\n",
              "      fill: #1967D2;\n",
              "      height: 32px;\n",
              "      padding: 0 0 0 0;\n",
              "      width: 32px;\n",
              "    }\n",
              "\n",
              "    .colab-df-convert:hover {\n",
              "      background-color: #E2EBFA;\n",
              "      box-shadow: 0px 1px 2px rgba(60, 64, 67, 0.3), 0px 1px 3px 1px rgba(60, 64, 67, 0.15);\n",
              "      fill: #174EA6;\n",
              "    }\n",
              "\n",
              "    .colab-df-buttons div {\n",
              "      margin-bottom: 4px;\n",
              "    }\n",
              "\n",
              "    [theme=dark] .colab-df-convert {\n",
              "      background-color: #3B4455;\n",
              "      fill: #D2E3FC;\n",
              "    }\n",
              "\n",
              "    [theme=dark] .colab-df-convert:hover {\n",
              "      background-color: #434B5C;\n",
              "      box-shadow: 0px 1px 3px 1px rgba(0, 0, 0, 0.15);\n",
              "      filter: drop-shadow(0px 1px 2px rgba(0, 0, 0, 0.3));\n",
              "      fill: #FFFFFF;\n",
              "    }\n",
              "  </style>\n",
              "\n",
              "    <script>\n",
              "      const buttonEl =\n",
              "        document.querySelector('#df-f28b05f2-7a79-4519-977d-b82cb41402e2 button.colab-df-convert');\n",
              "      buttonEl.style.display =\n",
              "        google.colab.kernel.accessAllowed ? 'block' : 'none';\n",
              "\n",
              "      async function convertToInteractive(key) {\n",
              "        const element = document.querySelector('#df-f28b05f2-7a79-4519-977d-b82cb41402e2');\n",
              "        const dataTable =\n",
              "          await google.colab.kernel.invokeFunction('convertToInteractive',\n",
              "                                                    [key], {});\n",
              "        if (!dataTable) return;\n",
              "\n",
              "        const docLinkHtml = 'Like what you see? Visit the ' +\n",
              "          '<a target=\"_blank\" href=https://colab.research.google.com/notebooks/data_table.ipynb>data table notebook</a>'\n",
              "          + ' to learn more about interactive tables.';\n",
              "        element.innerHTML = '';\n",
              "        dataTable['output_type'] = 'display_data';\n",
              "        await google.colab.output.renderOutput(dataTable, element);\n",
              "        const docLink = document.createElement('div');\n",
              "        docLink.innerHTML = docLinkHtml;\n",
              "        element.appendChild(docLink);\n",
              "      }\n",
              "    </script>\n",
              "  </div>\n",
              "\n",
              "\n",
              "<div id=\"df-2cb30dbe-b63f-4391-9992-d3c1791b6453\">\n",
              "  <button class=\"colab-df-quickchart\" onclick=\"quickchart('df-2cb30dbe-b63f-4391-9992-d3c1791b6453')\"\n",
              "            title=\"Suggest charts\"\n",
              "            style=\"display:none;\">\n",
              "\n",
              "<svg xmlns=\"http://www.w3.org/2000/svg\" height=\"24px\"viewBox=\"0 0 24 24\"\n",
              "     width=\"24px\">\n",
              "    <g>\n",
              "        <path d=\"M19 3H5c-1.1 0-2 .9-2 2v14c0 1.1.9 2 2 2h14c1.1 0 2-.9 2-2V5c0-1.1-.9-2-2-2zM9 17H7v-7h2v7zm4 0h-2V7h2v10zm4 0h-2v-4h2v4z\"/>\n",
              "    </g>\n",
              "</svg>\n",
              "  </button>\n",
              "\n",
              "<style>\n",
              "  .colab-df-quickchart {\n",
              "      --bg-color: #E8F0FE;\n",
              "      --fill-color: #1967D2;\n",
              "      --hover-bg-color: #E2EBFA;\n",
              "      --hover-fill-color: #174EA6;\n",
              "      --disabled-fill-color: #AAA;\n",
              "      --disabled-bg-color: #DDD;\n",
              "  }\n",
              "\n",
              "  [theme=dark] .colab-df-quickchart {\n",
              "      --bg-color: #3B4455;\n",
              "      --fill-color: #D2E3FC;\n",
              "      --hover-bg-color: #434B5C;\n",
              "      --hover-fill-color: #FFFFFF;\n",
              "      --disabled-bg-color: #3B4455;\n",
              "      --disabled-fill-color: #666;\n",
              "  }\n",
              "\n",
              "  .colab-df-quickchart {\n",
              "    background-color: var(--bg-color);\n",
              "    border: none;\n",
              "    border-radius: 50%;\n",
              "    cursor: pointer;\n",
              "    display: none;\n",
              "    fill: var(--fill-color);\n",
              "    height: 32px;\n",
              "    padding: 0;\n",
              "    width: 32px;\n",
              "  }\n",
              "\n",
              "  .colab-df-quickchart:hover {\n",
              "    background-color: var(--hover-bg-color);\n",
              "    box-shadow: 0 1px 2px rgba(60, 64, 67, 0.3), 0 1px 3px 1px rgba(60, 64, 67, 0.15);\n",
              "    fill: var(--button-hover-fill-color);\n",
              "  }\n",
              "\n",
              "  .colab-df-quickchart-complete:disabled,\n",
              "  .colab-df-quickchart-complete:disabled:hover {\n",
              "    background-color: var(--disabled-bg-color);\n",
              "    fill: var(--disabled-fill-color);\n",
              "    box-shadow: none;\n",
              "  }\n",
              "\n",
              "  .colab-df-spinner {\n",
              "    border: 2px solid var(--fill-color);\n",
              "    border-color: transparent;\n",
              "    border-bottom-color: var(--fill-color);\n",
              "    animation:\n",
              "      spin 1s steps(1) infinite;\n",
              "  }\n",
              "\n",
              "  @keyframes spin {\n",
              "    0% {\n",
              "      border-color: transparent;\n",
              "      border-bottom-color: var(--fill-color);\n",
              "      border-left-color: var(--fill-color);\n",
              "    }\n",
              "    20% {\n",
              "      border-color: transparent;\n",
              "      border-left-color: var(--fill-color);\n",
              "      border-top-color: var(--fill-color);\n",
              "    }\n",
              "    30% {\n",
              "      border-color: transparent;\n",
              "      border-left-color: var(--fill-color);\n",
              "      border-top-color: var(--fill-color);\n",
              "      border-right-color: var(--fill-color);\n",
              "    }\n",
              "    40% {\n",
              "      border-color: transparent;\n",
              "      border-right-color: var(--fill-color);\n",
              "      border-top-color: var(--fill-color);\n",
              "    }\n",
              "    60% {\n",
              "      border-color: transparent;\n",
              "      border-right-color: var(--fill-color);\n",
              "    }\n",
              "    80% {\n",
              "      border-color: transparent;\n",
              "      border-right-color: var(--fill-color);\n",
              "      border-bottom-color: var(--fill-color);\n",
              "    }\n",
              "    90% {\n",
              "      border-color: transparent;\n",
              "      border-bottom-color: var(--fill-color);\n",
              "    }\n",
              "  }\n",
              "</style>\n",
              "\n",
              "  <script>\n",
              "    async function quickchart(key) {\n",
              "      const quickchartButtonEl =\n",
              "        document.querySelector('#' + key + ' button');\n",
              "      quickchartButtonEl.disabled = true;  // To prevent multiple clicks.\n",
              "      quickchartButtonEl.classList.add('colab-df-spinner');\n",
              "      try {\n",
              "        const charts = await google.colab.kernel.invokeFunction(\n",
              "            'suggestCharts', [key], {});\n",
              "      } catch (error) {\n",
              "        console.error('Error during call to suggestCharts:', error);\n",
              "      }\n",
              "      quickchartButtonEl.classList.remove('colab-df-spinner');\n",
              "      quickchartButtonEl.classList.add('colab-df-quickchart-complete');\n",
              "    }\n",
              "    (() => {\n",
              "      let quickchartButtonEl =\n",
              "        document.querySelector('#df-2cb30dbe-b63f-4391-9992-d3c1791b6453 button');\n",
              "      quickchartButtonEl.style.display =\n",
              "        google.colab.kernel.accessAllowed ? 'block' : 'none';\n",
              "    })();\n",
              "  </script>\n",
              "</div>\n",
              "\n",
              "  <div id=\"id_80958c57-2095-4fd2-8a50-a962082db4a5\">\n",
              "    <style>\n",
              "      .colab-df-generate {\n",
              "        background-color: #E8F0FE;\n",
              "        border: none;\n",
              "        border-radius: 50%;\n",
              "        cursor: pointer;\n",
              "        display: none;\n",
              "        fill: #1967D2;\n",
              "        height: 32px;\n",
              "        padding: 0 0 0 0;\n",
              "        width: 32px;\n",
              "      }\n",
              "\n",
              "      .colab-df-generate:hover {\n",
              "        background-color: #E2EBFA;\n",
              "        box-shadow: 0px 1px 2px rgba(60, 64, 67, 0.3), 0px 1px 3px 1px rgba(60, 64, 67, 0.15);\n",
              "        fill: #174EA6;\n",
              "      }\n",
              "\n",
              "      [theme=dark] .colab-df-generate {\n",
              "        background-color: #3B4455;\n",
              "        fill: #D2E3FC;\n",
              "      }\n",
              "\n",
              "      [theme=dark] .colab-df-generate:hover {\n",
              "        background-color: #434B5C;\n",
              "        box-shadow: 0px 1px 3px 1px rgba(0, 0, 0, 0.15);\n",
              "        filter: drop-shadow(0px 1px 2px rgba(0, 0, 0, 0.3));\n",
              "        fill: #FFFFFF;\n",
              "      }\n",
              "    </style>\n",
              "    <button class=\"colab-df-generate\" onclick=\"generateWithVariable('customer_level_data')\"\n",
              "            title=\"Generate code using this dataframe.\"\n",
              "            style=\"display:none;\">\n",
              "\n",
              "  <svg xmlns=\"http://www.w3.org/2000/svg\" height=\"24px\"viewBox=\"0 0 24 24\"\n",
              "       width=\"24px\">\n",
              "    <path d=\"M7,19H8.4L18.45,9,17,7.55,7,17.6ZM5,21V16.75L18.45,3.32a2,2,0,0,1,2.83,0l1.4,1.43a1.91,1.91,0,0,1,.58,1.4,1.91,1.91,0,0,1-.58,1.4L9.25,21ZM18.45,9,17,7.55Zm-12,3A5.31,5.31,0,0,0,4.9,8.1,5.31,5.31,0,0,0,1,6.5,5.31,5.31,0,0,0,4.9,4.9,5.31,5.31,0,0,0,6.5,1,5.31,5.31,0,0,0,8.1,4.9,5.31,5.31,0,0,0,12,6.5,5.46,5.46,0,0,0,6.5,12Z\"/>\n",
              "  </svg>\n",
              "    </button>\n",
              "    <script>\n",
              "      (() => {\n",
              "      const buttonEl =\n",
              "        document.querySelector('#id_80958c57-2095-4fd2-8a50-a962082db4a5 button.colab-df-generate');\n",
              "      buttonEl.style.display =\n",
              "        google.colab.kernel.accessAllowed ? 'block' : 'none';\n",
              "\n",
              "      buttonEl.onclick = () => {\n",
              "        google.colab.notebook.generateWithVariable('customer_level_data');\n",
              "      }\n",
              "      })();\n",
              "    </script>\n",
              "  </div>\n",
              "\n",
              "    </div>\n",
              "  </div>\n"
            ],
            "application/vnd.google.colaboratory.intrinsic+json": {
              "type": "dataframe",
              "variable_name": "customer_level_data"
            }
          },
          "metadata": {},
          "execution_count": 169
        }
      ],
      "source": [
        "customer_level_data"
      ]
    },
    {
      "cell_type": "code",
      "execution_count": 170,
      "metadata": {
        "id": "Hyjj0FcmZoNk",
        "colab": {
          "base_uri": "https://localhost:8080/"
        },
        "outputId": "aa1327d7-6fbe-4995-9026-2e14729c8d2b"
      },
      "outputs": [
        {
          "output_type": "execute_result",
          "data": {
            "text/plain": [
              "133"
            ]
          },
          "metadata": {},
          "execution_count": 170
        }
      ],
      "source": [
        "customer_level_data['chain'].nunique()"
      ]
    },
    {
      "cell_type": "code",
      "execution_count": 171,
      "metadata": {
        "id": "-BjnHV7MWhK1",
        "colab": {
          "base_uri": "https://localhost:8080/"
        },
        "outputId": "a1e9ff9a-9d37-42b3-96f9-9d73d12689f3"
      },
      "outputs": [
        {
          "output_type": "stream",
          "name": "stdout",
          "text": [
            "Epoch 1/400\n",
            "195/195 - 4s - 18ms/step - loss: 5.6735 - val_loss: 4.7936 - learning_rate: 2.0000e-04\n",
            "Epoch 2/400\n",
            "195/195 - 2s - 12ms/step - loss: 4.7164 - val_loss: 4.6911 - learning_rate: 2.0000e-04\n",
            "Epoch 3/400\n",
            "195/195 - 1s - 6ms/step - loss: 4.6659 - val_loss: 4.6638 - learning_rate: 2.0000e-04\n",
            "Epoch 4/400\n",
            "195/195 - 1s - 5ms/step - loss: 4.6438 - val_loss: 4.6485 - learning_rate: 2.0000e-04\n",
            "Epoch 5/400\n",
            "195/195 - 2s - 8ms/step - loss: 4.6329 - val_loss: 4.6411 - learning_rate: 2.0000e-04\n",
            "Epoch 6/400\n",
            "195/195 - 2s - 9ms/step - loss: 4.6269 - val_loss: 4.6362 - learning_rate: 2.0000e-04\n",
            "Epoch 7/400\n",
            "195/195 - 2s - 9ms/step - loss: 4.6232 - val_loss: 4.6334 - learning_rate: 2.0000e-04\n",
            "Epoch 8/400\n",
            "195/195 - 1s - 5ms/step - loss: 4.6205 - val_loss: 4.6309 - learning_rate: 2.0000e-04\n",
            "Epoch 9/400\n",
            "195/195 - 1s - 6ms/step - loss: 4.6188 - val_loss: 4.6292 - learning_rate: 2.0000e-04\n",
            "Epoch 10/400\n",
            "195/195 - 1s - 5ms/step - loss: 4.6172 - val_loss: 4.6280 - learning_rate: 2.0000e-04\n",
            "Epoch 11/400\n",
            "195/195 - 1s - 5ms/step - loss: 4.6159 - val_loss: 4.6268 - learning_rate: 2.0000e-04\n",
            "Epoch 12/400\n",
            "195/195 - 1s - 6ms/step - loss: 4.6148 - val_loss: 4.6258 - learning_rate: 2.0000e-04\n",
            "Epoch 13/400\n",
            "195/195 - 1s - 7ms/step - loss: 4.6140 - val_loss: 4.6251 - learning_rate: 2.0000e-04\n",
            "Epoch 14/400\n",
            "195/195 - 1s - 6ms/step - loss: 4.6133 - val_loss: 4.6241 - learning_rate: 2.0000e-04\n",
            "Epoch 15/400\n",
            "195/195 - 3s - 16ms/step - loss: 4.6124 - val_loss: 4.6235 - learning_rate: 2.0000e-04\n",
            "Epoch 16/400\n",
            "195/195 - 3s - 17ms/step - loss: 4.6119 - val_loss: 4.6235 - learning_rate: 2.0000e-04\n",
            "Epoch 17/400\n",
            "195/195 - 1s - 6ms/step - loss: 4.6114 - val_loss: 4.6228 - learning_rate: 2.0000e-04\n",
            "Epoch 18/400\n",
            "195/195 - 1s - 7ms/step - loss: 4.6112 - val_loss: 4.6226 - learning_rate: 2.0000e-04\n",
            "Epoch 19/400\n",
            "195/195 - 1s - 5ms/step - loss: 4.6106 - val_loss: 4.6223 - learning_rate: 2.0000e-04\n",
            "Epoch 20/400\n",
            "195/195 - 1s - 6ms/step - loss: 4.6107 - val_loss: 4.6225 - learning_rate: 2.0000e-04\n",
            "Epoch 21/400\n",
            "195/195 - 1s - 6ms/step - loss: 4.6102 - val_loss: 4.6219 - learning_rate: 2.0000e-04\n",
            "Epoch 22/400\n",
            "195/195 - 1s - 5ms/step - loss: 4.6100 - val_loss: 4.6217 - learning_rate: 2.0000e-04\n",
            "Epoch 23/400\n",
            "195/195 - 1s - 7ms/step - loss: 4.6102 - val_loss: 4.6222 - learning_rate: 2.0000e-04\n",
            "Epoch 24/400\n",
            "195/195 - 2s - 8ms/step - loss: 4.6094 - val_loss: 4.6216 - learning_rate: 2.0000e-04\n",
            "Epoch 25/400\n",
            "195/195 - 2s - 9ms/step - loss: 4.6093 - val_loss: 4.6216 - learning_rate: 2.0000e-04\n",
            "Epoch 26/400\n",
            "195/195 - 2s - 9ms/step - loss: 4.6090 - val_loss: 4.6217 - learning_rate: 2.0000e-04\n",
            "Epoch 27/400\n",
            "195/195 - 1s - 7ms/step - loss: 4.6092 - val_loss: 4.6215 - learning_rate: 2.0000e-04\n",
            "Epoch 28/400\n",
            "195/195 - 1s - 6ms/step - loss: 4.6088 - val_loss: 4.6219 - learning_rate: 2.0000e-04\n",
            "Epoch 29/400\n",
            "195/195 - 1s - 6ms/step - loss: 4.6086 - val_loss: 4.6210 - learning_rate: 2.0000e-04\n",
            "Epoch 30/400\n",
            "195/195 - 1s - 5ms/step - loss: 4.6084 - val_loss: 4.6206 - learning_rate: 2.0000e-04\n",
            "Epoch 31/400\n",
            "195/195 - 1s - 5ms/step - loss: 4.6085 - val_loss: 4.6215 - learning_rate: 2.0000e-04\n",
            "Epoch 32/400\n",
            "195/195 - 1s - 6ms/step - loss: 4.6081 - val_loss: 4.6206 - learning_rate: 2.0000e-04\n",
            "Epoch 33/400\n",
            "195/195 - 1s - 5ms/step - loss: 4.6081 - val_loss: 4.6205 - learning_rate: 2.0000e-04\n",
            "Epoch 34/400\n",
            "195/195 - 1s - 7ms/step - loss: 4.6080 - val_loss: 4.6210 - learning_rate: 2.0000e-04\n",
            "Epoch 35/400\n",
            "195/195 - 2s - 12ms/step - loss: 4.6078 - val_loss: 4.6209 - learning_rate: 2.0000e-04\n",
            "Epoch 36/400\n",
            "195/195 - 1s - 6ms/step - loss: 4.6078 - val_loss: 4.6207 - learning_rate: 2.0000e-04\n",
            "Epoch 37/400\n",
            "195/195 - 1s - 6ms/step - loss: 4.6075 - val_loss: 4.6215 - learning_rate: 2.0000e-04\n",
            "Epoch 38/400\n",
            "195/195 - 1s - 7ms/step - loss: 4.6075 - val_loss: 4.6206 - learning_rate: 2.0000e-04\n",
            "Epoch 39/400\n",
            "195/195 - 1s - 6ms/step - loss: 4.6076 - val_loss: 4.6201 - learning_rate: 2.0000e-04\n",
            "Epoch 40/400\n",
            "195/195 - 1s - 5ms/step - loss: 4.6073 - val_loss: 4.6213 - learning_rate: 2.0000e-04\n",
            "Epoch 41/400\n",
            "195/195 - 1s - 5ms/step - loss: 4.6074 - val_loss: 4.6204 - learning_rate: 2.0000e-04\n",
            "Epoch 42/400\n",
            "195/195 - 1s - 6ms/step - loss: 4.6071 - val_loss: 4.6202 - learning_rate: 2.0000e-04\n",
            "Epoch 43/400\n",
            "195/195 - 1s - 5ms/step - loss: 4.6072 - val_loss: 4.6200 - learning_rate: 2.0000e-04\n",
            "Epoch 44/400\n",
            "195/195 - 2s - 11ms/step - loss: 4.6072 - val_loss: 4.6203 - learning_rate: 2.0000e-04\n",
            "Epoch 45/400\n",
            "195/195 - 2s - 9ms/step - loss: 4.6072 - val_loss: 4.6211 - learning_rate: 2.0000e-04\n",
            "Epoch 46/400\n",
            "195/195 - 1s - 5ms/step - loss: 4.6071 - val_loss: 4.6202 - learning_rate: 2.0000e-04\n",
            "Epoch 47/400\n",
            "195/195 - 1s - 7ms/step - loss: 4.6070 - val_loss: 4.6201 - learning_rate: 2.0000e-04\n",
            "Epoch 48/400\n",
            "195/195 - 1s - 6ms/step - loss: 4.6069 - val_loss: 4.6204 - learning_rate: 2.0000e-04\n",
            "Epoch 49/400\n",
            "195/195 - 1s - 7ms/step - loss: 4.6067 - val_loss: 4.6203 - learning_rate: 2.0000e-04\n",
            "Epoch 50/400\n",
            "195/195 - 1s - 6ms/step - loss: 4.6068 - val_loss: 4.6202 - learning_rate: 2.0000e-04\n",
            "Epoch 51/400\n",
            "195/195 - 1s - 6ms/step - loss: 4.6068 - val_loss: 4.6200 - learning_rate: 2.0000e-04\n",
            "Epoch 52/400\n",
            "195/195 - 1s - 5ms/step - loss: 4.6067 - val_loss: 4.6203 - learning_rate: 2.0000e-04\n",
            "Epoch 53/400\n",
            "195/195 - 2s - 9ms/step - loss: 4.6069 - val_loss: 4.6197 - learning_rate: 2.0000e-04\n",
            "Epoch 54/400\n",
            "195/195 - 2s - 9ms/step - loss: 4.6065 - val_loss: 4.6198 - learning_rate: 2.0000e-04\n",
            "Epoch 55/400\n",
            "195/195 - 2s - 8ms/step - loss: 4.6066 - val_loss: 4.6207 - learning_rate: 2.0000e-04\n",
            "Epoch 56/400\n",
            "195/195 - 2s - 10ms/step - loss: 4.6065 - val_loss: 4.6206 - learning_rate: 2.0000e-04\n",
            "Epoch 57/400\n",
            "195/195 - 1s - 5ms/step - loss: 4.6064 - val_loss: 4.6207 - learning_rate: 2.0000e-04\n",
            "Epoch 58/400\n",
            "195/195 - 1s - 5ms/step - loss: 4.6065 - val_loss: 4.6199 - learning_rate: 2.0000e-04\n",
            "Epoch 59/400\n",
            "195/195 - 1s - 5ms/step - loss: 4.6063 - val_loss: 4.6198 - learning_rate: 2.0000e-04\n",
            "Epoch 60/400\n",
            "195/195 - 1s - 5ms/step - loss: 4.6066 - val_loss: 4.6196 - learning_rate: 2.0000e-04\n",
            "Epoch 61/400\n",
            "195/195 - 1s - 7ms/step - loss: 4.6062 - val_loss: 4.6205 - learning_rate: 2.0000e-04\n",
            "Epoch 62/400\n",
            "195/195 - 1s - 6ms/step - loss: 4.6063 - val_loss: 4.6194 - learning_rate: 2.0000e-04\n",
            "Epoch 63/400\n",
            "195/195 - 1s - 7ms/step - loss: 4.6063 - val_loss: 4.6200 - learning_rate: 2.0000e-04\n",
            "Epoch 64/400\n",
            "195/195 - 2s - 11ms/step - loss: 4.6062 - val_loss: 4.6197 - learning_rate: 2.0000e-04\n",
            "Epoch 65/400\n",
            "195/195 - 2s - 8ms/step - loss: 4.6062 - val_loss: 4.6194 - learning_rate: 2.0000e-04\n",
            "Epoch 66/400\n",
            "195/195 - 1s - 5ms/step - loss: 4.6063 - val_loss: 4.6202 - learning_rate: 2.0000e-04\n",
            "Epoch 67/400\n",
            "195/195 - 1s - 7ms/step - loss: 4.6061 - val_loss: 4.6199 - learning_rate: 2.0000e-04\n",
            "Epoch 68/400\n",
            "195/195 - 1s - 6ms/step - loss: 4.6062 - val_loss: 4.6194 - learning_rate: 2.0000e-04\n",
            "Epoch 69/400\n",
            "195/195 - 1s - 5ms/step - loss: 4.6064 - val_loss: 4.6206 - learning_rate: 2.0000e-04\n",
            "Epoch 70/400\n",
            "195/195 - 1s - 5ms/step - loss: 4.6060 - val_loss: 4.6206 - learning_rate: 2.0000e-04\n",
            "Epoch 71/400\n",
            "195/195 - 1s - 7ms/step - loss: 4.6060 - val_loss: 4.6195 - learning_rate: 2.0000e-04\n",
            "Epoch 72/400\n",
            "195/195 - 1s - 6ms/step - loss: 4.6059 - val_loss: 4.6191 - learning_rate: 2.0000e-04\n",
            "Epoch 73/400\n",
            "195/195 - 1s - 7ms/step - loss: 4.6060 - val_loss: 4.6199 - learning_rate: 2.0000e-04\n",
            "Epoch 74/400\n",
            "195/195 - 1s - 7ms/step - loss: 4.6060 - val_loss: 4.6195 - learning_rate: 2.0000e-04\n",
            "Epoch 75/400\n",
            "195/195 - 2s - 9ms/step - loss: 4.6062 - val_loss: 4.6205 - learning_rate: 2.0000e-04\n",
            "Epoch 76/400\n",
            "195/195 - 2s - 10ms/step - loss: 4.6058 - val_loss: 4.6195 - learning_rate: 2.0000e-04\n",
            "Epoch 77/400\n",
            "195/195 - 1s - 5ms/step - loss: 4.6056 - val_loss: 4.6202 - learning_rate: 2.0000e-04\n",
            "Epoch 78/400\n",
            "195/195 - 1s - 5ms/step - loss: 4.6059 - val_loss: 4.6195 - learning_rate: 2.0000e-04\n",
            "Epoch 79/400\n",
            "195/195 - 1s - 5ms/step - loss: 4.6061 - val_loss: 4.6195 - learning_rate: 2.0000e-04\n",
            "Epoch 80/400\n",
            "195/195 - 1s - 5ms/step - loss: 4.6058 - val_loss: 4.6201 - learning_rate: 2.0000e-04\n",
            "Epoch 81/400\n",
            "195/195 - 1s - 7ms/step - loss: 4.6058 - val_loss: 4.6202 - learning_rate: 2.0000e-04\n",
            "Epoch 82/400\n",
            "195/195 - 1s - 6ms/step - loss: 4.6060 - val_loss: 4.6197 - learning_rate: 2.0000e-04\n"
          ]
        }
      ],
      "source": [
        "history = model.fit(\n",
        "    x=x_train,\n",
        "    y=y_train[:, np.newaxis],\n",
        "    batch_size=1024,\n",
        "    epochs=EPOCHS,\n",
        "    verbose=2,\n",
        "    callbacks=callbacks,\n",
        "    validation_data=(x_eval, y_eval[:, np.newaxis])).history"
      ]
    },
    {
      "cell_type": "code",
      "execution_count": 172,
      "metadata": {
        "id": "mAJGs5SebDeN",
        "colab": {
          "base_uri": "https://localhost:8080/",
          "height": 447
        },
        "outputId": "a9133cbf-5a29-4fae-d393-f6ca6e5ebfdd"
      },
      "outputs": [
        {
          "output_type": "execute_result",
          "data": {
            "text/plain": [
              "<Axes: >"
            ]
          },
          "metadata": {},
          "execution_count": 172
        },
        {
          "output_type": "display_data",
          "data": {
            "text/plain": [
              "<Figure size 640x480 with 1 Axes>"
            ],
            "image/png": "[encoded data removed]"
          },
          "metadata": {}
        }
      ],
      "source": [
        "pd.DataFrame(history)[['loss', 'val_loss']][2:].plot()"
      ]
    },
    {
      "cell_type": "markdown",
      "metadata": {
        "id": "bHaiutmy2aYm"
      },
      "source": [
        "### Eval"
      ]
    },
    {
      "cell_type": "code",
      "execution_count": 173,
      "metadata": {
        "id": "l6E_5gYAYQMw",
        "colab": {
          "base_uri": "https://localhost:8080/"
        },
        "outputId": "a35e7170-ff2f-4d29-af0f-99560e398787"
      },
      "outputs": [
        {
          "output_type": "stream",
          "name": "stdout",
          "text": [
            "\u001b[1m49/49\u001b[0m \u001b[32m━━━━━━━━━━━━━━━━━━━━\u001b[0m\u001b[37m\u001b[0m \u001b[1m0s\u001b[0m 6ms/step\n"
          ]
        }
      ],
      "source": [
        "logits = model.predict(x=x_eval, batch_size=1024)\n",
        "y_pred = K.sigmoid(logits[..., :1]).numpy().flatten()"
      ]
    },
    {
      "cell_type": "code",
      "source": [
        "x_train"
      ],
      "metadata": {
        "colab": {
          "base_uri": "https://localhost:8080/"
        },
        "id": "VU67qr-06kqn",
        "outputId": "f89c6865-533c-413a-df09-8fa428cfda8a"
      },
      "execution_count": 174,
      "outputs": [
        {
          "output_type": "execute_result",
          "data": {
            "text/plain": [
              "{'chain': array([ 14,  21, 106, ...,  14,  33,  11]),\n",
              " 'dept': array([3, 3, 3, ..., 3, 3, 3]),\n",
              " 'category': array([ 4,  8, 10, ..., 14, 10,  8]),\n",
              " 'brand': array([ 1, 14, 11, ..., 14, 11, 14]),\n",
              " 'productmeasure': array([0, 0, 0, ..., 0, 0, 0]),\n",
              " 'numeric': array([[1.7917595 ],\n",
              "        [1.2029723 ],\n",
              "        [1.178655  ],\n",
              "        ...,\n",
              "        [2.014903  ],\n",
              "        [0.51282364],\n",
              "        [1.0986123 ]], dtype=float32)}"
            ]
          },
          "metadata": {},
          "execution_count": 174
        }
      ]
    },
    {
      "cell_type": "code",
      "execution_count": 175,
      "metadata": {
        "id": "dPFicPmhndqR",
        "colab": {
          "base_uri": "https://localhost:8080/"
        },
        "outputId": "746c63be-9b02-45b8-8b2e-908d74aa50e9"
      },
      "outputs": [
        {
          "output_type": "execute_result",
          "data": {
            "text/plain": [
              "{'chain': array([ 14,  14,   9, ..., 110,  18,  21]),\n",
              " 'dept': array([3, 3, 3, ..., 3, 3, 3]),\n",
              " 'category': array([ 8,  6,  8, ...,  4, 10,  4]),\n",
              " 'brand': array([14,  2, 14, ...,  1, 11,  1]),\n",
              " 'productmeasure': array([0, 0, 0, ..., 0, 0, 0]),\n",
              " 'numeric': array([[-0.01005034],\n",
              "        [ 2.0769384 ],\n",
              "        [ 1.5040774 ],\n",
              "        ...,\n",
              "        [ 0.46373403],\n",
              "        [ 1.9139771 ],\n",
              "        [ 1.7917595 ]], dtype=float32)}"
            ]
          },
          "metadata": {},
          "execution_count": 175
        }
      ],
      "source": [
        "x_eval"
      ]
    },
    {
      "cell_type": "code",
      "execution_count": 176,
      "metadata": {
        "id": "E6c9eMuNzeFt",
        "colab": {
          "base_uri": "https://localhost:8080/"
        },
        "outputId": "5225d2e5-683e-4c32-b618-693aac9adfcb"
      },
      "outputs": [
        {
          "output_type": "execute_result",
          "data": {
            "text/plain": [
              "array([[1.6643212, 3.203326 , 1.0585228],\n",
              "       [1.6711224, 3.574435 , 1.0209956],\n",
              "       [1.9363171, 3.4792337, 1.1008466],\n",
              "       ...,\n",
              "       [0.8070926, 2.2972062, 0.9532978],\n",
              "       [1.7037501, 3.1383631, 1.1778969],\n",
              "       [1.477343 , 3.1615236, 0.9012335]], dtype=float32)"
            ]
          },
          "metadata": {},
          "execution_count": 176
        }
      ],
      "source": [
        "logits"
      ]
    },
    {
      "cell_type": "code",
      "execution_count": 177,
      "metadata": {
        "id": "B5iPc17BnYZG",
        "colab": {
          "base_uri": "https://localhost:8080/"
        },
        "outputId": "4ee940ee-6373-46bd-fd2d-091479691143"
      },
      "outputs": [
        {
          "output_type": "execute_result",
          "data": {
            "text/plain": [
              "array([0.8408172 , 0.8417254 , 0.873947  , ..., 0.6914897 , 0.84602386,\n",
              "       0.8141709 ], dtype=float32)"
            ]
          },
          "metadata": {},
          "execution_count": 177
        }
      ],
      "source": [
        "y_pred"
      ]
    },
    {
      "cell_type": "code",
      "source": [
        "y_eval"
      ],
      "metadata": {
        "colab": {
          "base_uri": "https://localhost:8080/"
        },
        "id": "4D-JuTct7XGi",
        "outputId": "1973106c-5876-4582-8ad1-4abebca2acef"
      },
      "execution_count": 178,
      "outputs": [
        {
          "output_type": "execute_result",
          "data": {
            "text/plain": [
              "array([ 19.21,   0.  , 165.  , ...,  15.46,  71.21,  61.46], dtype=float32)"
            ]
          },
          "metadata": {},
          "execution_count": 178
        }
      ]
    },
    {
      "cell_type": "code",
      "source": [
        "y_pred.max()"
      ],
      "metadata": {
        "colab": {
          "base_uri": "https://localhost:8080/"
        },
        "id": "N_VI9D382EWJ",
        "outputId": "fa158e3e-a113-4823-b413-08c421579344"
      },
      "execution_count": 207,
      "outputs": [
        {
          "output_type": "execute_result",
          "data": {
            "text/plain": [
              "0.98802054"
            ]
          },
          "metadata": {},
          "execution_count": 207
        }
      ]
    },
    {
      "cell_type": "code",
      "execution_count": 179,
      "metadata": {
        "id": "ICTDpg4rxdlj"
      },
      "outputs": [],
      "source": [
        "y_true = (y_eval > 0).astype('float32')"
      ]
    },
    {
      "cell_type": "code",
      "execution_count": 180,
      "metadata": {
        "id": "POeY1gdKTwfx"
      },
      "outputs": [],
      "source": [
        "def classification_report(y_true: Sequence[int],\n",
        "                          y_pred: Sequence[float]) -> pd.DataFrame:\n",
        "  \"\"\"Report individual level classification metrics.\n",
        "\n",
        "  Arguments:\n",
        "    y_true: true binary labels.\n",
        "    y_pred: predicted binary labels.\n",
        "\n",
        "  Returns:\n",
        "    out: dataframe with classification metrics as columns.\n",
        "  \"\"\"\n",
        "  out = pd.DataFrame(index=[0])\n",
        "\n",
        "  out['AUC'] = metrics.roc_auc_score(y_true, y_pred)\n",
        "  out['PR_AUC'] = metrics.average_precision_score(y_true, y_pred)\n",
        "  out['precision'] = metrics.precision_score(y_true, 1 * (y_pred > .5))\n",
        "  out['recall'] = metrics.recall_score(y_true, 1 * (y_pred > .5))\n",
        "  out['f1'] = metrics.f1_score(y_true, 1 * (y_pred > .5))\n",
        "  return out"
      ]
    },
    {
      "cell_type": "code",
      "execution_count": 181,
      "metadata": {
        "id": "vGcWU2vFaeT1",
        "colab": {
          "base_uri": "https://localhost:8080/",
          "height": 89
        },
        "outputId": "3c2af07d-3a21-4a2c-f60e-a75a275da1f3"
      },
      "outputs": [
        {
          "output_type": "execute_result",
          "data": {
            "text/plain": [
              "        AUC   PR_AUC  precision    recall        f1\n",
              "0  0.656902  0.90568   0.845845  0.997197  0.915307"
            ],
            "text/html": [
              "\n",
              "  <div id=\"df-b28da508-2e2a-4706-93d4-2721384ba1dc\" class=\"colab-df-container\">\n",
              "    <div>\n",
              "<style scoped>\n",
              "    .dataframe tbody tr th:only-of-type {\n",
              "        vertical-align: middle;\n",
              "    }\n",
              "\n",
              "    .dataframe tbody tr th {\n",
              "        vertical-align: top;\n",
              "    }\n",
              "\n",
              "    .dataframe thead th {\n",
              "        text-align: right;\n",
              "    }\n",
              "</style>\n",
              "<table border=\"1\" class=\"dataframe\">\n",
              "  <thead>\n",
              "    <tr style=\"text-align: right;\">\n",
              "      <th></th>\n",
              "      <th>AUC</th>\n",
              "      <th>PR_AUC</th>\n",
              "      <th>precision</th>\n",
              "      <th>recall</th>\n",
              "      <th>f1</th>\n",
              "    </tr>\n",
              "  </thead>\n",
              "  <tbody>\n",
              "    <tr>\n",
              "      <th>0</th>\n",
              "      <td>0.656902</td>\n",
              "      <td>0.90568</td>\n",
              "      <td>0.845845</td>\n",
              "      <td>0.997197</td>\n",
              "      <td>0.915307</td>\n",
              "    </tr>\n",
              "  </tbody>\n",
              "</table>\n",
              "</div>\n",
              "    <div class=\"colab-df-buttons\">\n",
              "\n",
              "  <div class=\"colab-df-container\">\n",
              "    <button class=\"colab-df-convert\" onclick=\"convertToInteractive('df-b28da508-2e2a-4706-93d4-2721384ba1dc')\"\n",
              "            title=\"Convert this dataframe to an interactive table.\"\n",
              "            style=\"display:none;\">\n",
              "\n",
              "  <svg xmlns=\"http://www.w3.org/2000/svg\" height=\"24px\" viewBox=\"0 -960 960 960\">\n",
              "    <path d=\"M120-120v-720h720v720H120Zm60-500h600v-160H180v160Zm220 220h160v-160H400v160Zm0 220h160v-160H400v160ZM180-400h160v-160H180v160Zm440 0h160v-160H620v160ZM180-180h160v-160H180v160Zm440 0h160v-160H620v160Z\"/>\n",
              "  </svg>\n",
              "    </button>\n",
              "\n",
              "  <style>\n",
              "    .colab-df-container {\n",
              "      display:flex;\n",
              "      gap: 12px;\n",
              "    }\n",
              "\n",
              "    .colab-df-convert {\n",
              "      background-color: #E8F0FE;\n",
              "      border: none;\n",
              "      border-radius: 50%;\n",
              "      cursor: pointer;\n",
              "      display: none;\n",
              "      fill: #1967D2;\n",
              "      height: 32px;\n",
              "      padding: 0 0 0 0;\n",
              "      width: 32px;\n",
              "    }\n",
              "\n",
              "    .colab-df-convert:hover {\n",
              "      background-color: #E2EBFA;\n",
              "      box-shadow: 0px 1px 2px rgba(60, 64, 67, 0.3), 0px 1px 3px 1px rgba(60, 64, 67, 0.15);\n",
              "      fill: #174EA6;\n",
              "    }\n",
              "\n",
              "    .colab-df-buttons div {\n",
              "      margin-bottom: 4px;\n",
              "    }\n",
              "\n",
              "    [theme=dark] .colab-df-convert {\n",
              "      background-color: #3B4455;\n",
              "      fill: #D2E3FC;\n",
              "    }\n",
              "\n",
              "    [theme=dark] .colab-df-convert:hover {\n",
              "      background-color: #434B5C;\n",
              "      box-shadow: 0px 1px 3px 1px rgba(0, 0, 0, 0.15);\n",
              "      filter: drop-shadow(0px 1px 2px rgba(0, 0, 0, 0.3));\n",
              "      fill: #FFFFFF;\n",
              "    }\n",
              "  </style>\n",
              "\n",
              "    <script>\n",
              "      const buttonEl =\n",
              "        document.querySelector('#df-b28da508-2e2a-4706-93d4-2721384ba1dc button.colab-df-convert');\n",
              "      buttonEl.style.display =\n",
              "        google.colab.kernel.accessAllowed ? 'block' : 'none';\n",
              "\n",
              "      async function convertToInteractive(key) {\n",
              "        const element = document.querySelector('#df-b28da508-2e2a-4706-93d4-2721384ba1dc');\n",
              "        const dataTable =\n",
              "          await google.colab.kernel.invokeFunction('convertToInteractive',\n",
              "                                                    [key], {});\n",
              "        if (!dataTable) return;\n",
              "\n",
              "        const docLinkHtml = 'Like what you see? Visit the ' +\n",
              "          '<a target=\"_blank\" href=https://colab.research.google.com/notebooks/data_table.ipynb>data table notebook</a>'\n",
              "          + ' to learn more about interactive tables.';\n",
              "        element.innerHTML = '';\n",
              "        dataTable['output_type'] = 'display_data';\n",
              "        await google.colab.output.renderOutput(dataTable, element);\n",
              "        const docLink = document.createElement('div');\n",
              "        docLink.innerHTML = docLinkHtml;\n",
              "        element.appendChild(docLink);\n",
              "      }\n",
              "    </script>\n",
              "  </div>\n",
              "\n",
              "\n",
              "  <div id=\"id_7bcd57c6-909d-4b97-af4f-5b7d28be9e33\">\n",
              "    <style>\n",
              "      .colab-df-generate {\n",
              "        background-color: #E8F0FE;\n",
              "        border: none;\n",
              "        border-radius: 50%;\n",
              "        cursor: pointer;\n",
              "        display: none;\n",
              "        fill: #1967D2;\n",
              "        height: 32px;\n",
              "        padding: 0 0 0 0;\n",
              "        width: 32px;\n",
              "      }\n",
              "\n",
              "      .colab-df-generate:hover {\n",
              "        background-color: #E2EBFA;\n",
              "        box-shadow: 0px 1px 2px rgba(60, 64, 67, 0.3), 0px 1px 3px 1px rgba(60, 64, 67, 0.15);\n",
              "        fill: #174EA6;\n",
              "      }\n",
              "\n",
              "      [theme=dark] .colab-df-generate {\n",
              "        background-color: #3B4455;\n",
              "        fill: #D2E3FC;\n",
              "      }\n",
              "\n",
              "      [theme=dark] .colab-df-generate:hover {\n",
              "        background-color: #434B5C;\n",
              "        box-shadow: 0px 1px 3px 1px rgba(0, 0, 0, 0.15);\n",
              "        filter: drop-shadow(0px 1px 2px rgba(0, 0, 0, 0.3));\n",
              "        fill: #FFFFFF;\n",
              "      }\n",
              "    </style>\n",
              "    <button class=\"colab-df-generate\" onclick=\"generateWithVariable('classification')\"\n",
              "            title=\"Generate code using this dataframe.\"\n",
              "            style=\"display:none;\">\n",
              "\n",
              "  <svg xmlns=\"http://www.w3.org/2000/svg\" height=\"24px\"viewBox=\"0 0 24 24\"\n",
              "       width=\"24px\">\n",
              "    <path d=\"M7,19H8.4L18.45,9,17,7.55,7,17.6ZM5,21V16.75L18.45,3.32a2,2,0,0,1,2.83,0l1.4,1.43a1.91,1.91,0,0,1,.58,1.4,1.91,1.91,0,0,1-.58,1.4L9.25,21ZM18.45,9,17,7.55Zm-12,3A5.31,5.31,0,0,0,4.9,8.1,5.31,5.31,0,0,0,1,6.5,5.31,5.31,0,0,0,4.9,4.9,5.31,5.31,0,0,0,6.5,1,5.31,5.31,0,0,0,8.1,4.9,5.31,5.31,0,0,0,12,6.5,5.46,5.46,0,0,0,6.5,12Z\"/>\n",
              "  </svg>\n",
              "    </button>\n",
              "    <script>\n",
              "      (() => {\n",
              "      const buttonEl =\n",
              "        document.querySelector('#id_7bcd57c6-909d-4b97-af4f-5b7d28be9e33 button.colab-df-generate');\n",
              "      buttonEl.style.display =\n",
              "        google.colab.kernel.accessAllowed ? 'block' : 'none';\n",
              "\n",
              "      buttonEl.onclick = () => {\n",
              "        google.colab.notebook.generateWithVariable('classification');\n",
              "      }\n",
              "      })();\n",
              "    </script>\n",
              "  </div>\n",
              "\n",
              "    </div>\n",
              "  </div>\n"
            ],
            "application/vnd.google.colaboratory.intrinsic+json": {
              "type": "dataframe",
              "variable_name": "classification",
              "summary": "{\n  \"name\": \"classification\",\n  \"rows\": 1,\n  \"fields\": [\n    {\n      \"column\": \"AUC\",\n      \"properties\": {\n        \"dtype\": \"number\",\n        \"std\": null,\n        \"min\": 0.6569015272627889,\n        \"max\": 0.6569015272627889,\n        \"num_unique_values\": 1,\n        \"samples\": [\n          0.6569015272627889\n        ],\n        \"semantic_type\": \"\",\n        \"description\": \"\"\n      }\n    },\n    {\n      \"column\": \"PR_AUC\",\n      \"properties\": {\n        \"dtype\": \"number\",\n        \"std\": null,\n        \"min\": 0.9056801073870255,\n        \"max\": 0.9056801073870255,\n        \"num_unique_values\": 1,\n        \"samples\": [\n          0.9056801073870255\n        ],\n        \"semantic_type\": \"\",\n        \"description\": \"\"\n      }\n    },\n    {\n      \"column\": \"precision\",\n      \"properties\": {\n        \"dtype\": \"number\",\n        \"std\": null,\n        \"min\": 0.8458454223081883,\n        \"max\": 0.8458454223081883,\n        \"num_unique_values\": 1,\n        \"samples\": [\n          0.8458454223081883\n        ],\n        \"semantic_type\": \"\",\n        \"description\": \"\"\n      }\n    },\n    {\n      \"column\": \"recall\",\n      \"properties\": {\n        \"dtype\": \"number\",\n        \"std\": null,\n        \"min\": 0.9971970830661061,\n        \"max\": 0.9971970830661061,\n        \"num_unique_values\": 1,\n        \"samples\": [\n          0.9971970830661061\n        ],\n        \"semantic_type\": \"\",\n        \"description\": \"\"\n      }\n    },\n    {\n      \"column\": \"f1\",\n      \"properties\": {\n        \"dtype\": \"number\",\n        \"std\": null,\n        \"min\": 0.9153067120166574,\n        \"max\": 0.9153067120166574,\n        \"num_unique_values\": 1,\n        \"samples\": [\n          0.9153067120166574\n        ],\n        \"semantic_type\": \"\",\n        \"description\": \"\"\n      }\n    }\n  ]\n}"
            }
          },
          "metadata": {},
          "execution_count": 181
        }
      ],
      "source": [
        "classification = classification_report(y_true, y_pred)\n",
        "classification"
      ]
    },
    {
      "cell_type": "markdown",
      "metadata": {
        "id": "-i_AbqhXcurk"
      },
      "source": [
        "### All metrics together"
      ]
    },
    {
      "cell_type": "code",
      "execution_count": 182,
      "metadata": {
        "id": "Umqg1-0Bc1HS"
      },
      "outputs": [],
      "source": [
        "df_metrics = pd.DataFrame(\n",
        "    {\n",
        "        'company': COMPANY,\n",
        "        'model': MODEL,\n",
        "        'loss': LOSS,\n",
        "        'label_mean': y_true.mean(),\n",
        "        'pred_mean': y_pred.mean(),\n",
        "        'AUC': classification.loc[0, 'AUC'],\n",
        "        'PR_AUC': classification.loc[0, 'PR_AUC'],\n",
        "        'precision': classification.loc[0, 'precision'],\n",
        "        'recall': classification.loc[0, 'recall'],\n",
        "        'f1': classification.loc[0, 'f1']\n",
        "    },\n",
        "    index=[0])"
      ]
    },
    {
      "cell_type": "code",
      "execution_count": 183,
      "metadata": {
        "id": "1LV1Hs3xcxnd",
        "colab": {
          "base_uri": "https://localhost:8080/",
          "height": 80
        },
        "outputId": "b5b378c7-72d9-4377-8e6d-4aa0111da1a5"
      },
      "outputs": [
        {
          "output_type": "execute_result",
          "data": {
            "text/plain": [
              "     company model  loss  label_mean  pred_mean       AUC   PR_AUC  precision  \\\n",
              "0  104900040   dnn  ziln    0.844395   0.839177  0.656902  0.90568   0.845845   \n",
              "\n",
              "     recall        f1  \n",
              "0  0.997197  0.915307  "
            ],
            "text/html": [
              "\n",
              "  <div id=\"df-79809241-add3-425b-8ad8-7566af7441c9\" class=\"colab-df-container\">\n",
              "    <div>\n",
              "<style scoped>\n",
              "    .dataframe tbody tr th:only-of-type {\n",
              "        vertical-align: middle;\n",
              "    }\n",
              "\n",
              "    .dataframe tbody tr th {\n",
              "        vertical-align: top;\n",
              "    }\n",
              "\n",
              "    .dataframe thead th {\n",
              "        text-align: right;\n",
              "    }\n",
              "</style>\n",
              "<table border=\"1\" class=\"dataframe\">\n",
              "  <thead>\n",
              "    <tr style=\"text-align: right;\">\n",
              "      <th></th>\n",
              "      <th>company</th>\n",
              "      <th>model</th>\n",
              "      <th>loss</th>\n",
              "      <th>label_mean</th>\n",
              "      <th>pred_mean</th>\n",
              "      <th>AUC</th>\n",
              "      <th>PR_AUC</th>\n",
              "      <th>precision</th>\n",
              "      <th>recall</th>\n",
              "      <th>f1</th>\n",
              "    </tr>\n",
              "  </thead>\n",
              "  <tbody>\n",
              "    <tr>\n",
              "      <th>0</th>\n",
              "      <td>104900040</td>\n",
              "      <td>dnn</td>\n",
              "      <td>ziln</td>\n",
              "      <td>0.844395</td>\n",
              "      <td>0.839177</td>\n",
              "      <td>0.656902</td>\n",
              "      <td>0.90568</td>\n",
              "      <td>0.845845</td>\n",
              "      <td>0.997197</td>\n",
              "      <td>0.915307</td>\n",
              "    </tr>\n",
              "  </tbody>\n",
              "</table>\n",
              "</div>\n",
              "    <div class=\"colab-df-buttons\">\n",
              "\n",
              "  <div class=\"colab-df-container\">\n",
              "    <button class=\"colab-df-convert\" onclick=\"convertToInteractive('df-79809241-add3-425b-8ad8-7566af7441c9')\"\n",
              "            title=\"Convert this dataframe to an interactive table.\"\n",
              "            style=\"display:none;\">\n",
              "\n",
              "  <svg xmlns=\"http://www.w3.org/2000/svg\" height=\"24px\" viewBox=\"0 -960 960 960\">\n",
              "    <path d=\"M120-120v-720h720v720H120Zm60-500h600v-160H180v160Zm220 220h160v-160H400v160Zm0 220h160v-160H400v160ZM180-400h160v-160H180v160Zm440 0h160v-160H620v160ZM180-180h160v-160H180v160Zm440 0h160v-160H620v160Z\"/>\n",
              "  </svg>\n",
              "    </button>\n",
              "\n",
              "  <style>\n",
              "    .colab-df-container {\n",
              "      display:flex;\n",
              "      gap: 12px;\n",
              "    }\n",
              "\n",
              "    .colab-df-convert {\n",
              "      background-color: #E8F0FE;\n",
              "      border: none;\n",
              "      border-radius: 50%;\n",
              "      cursor: pointer;\n",
              "      display: none;\n",
              "      fill: #1967D2;\n",
              "      height: 32px;\n",
              "      padding: 0 0 0 0;\n",
              "      width: 32px;\n",
              "    }\n",
              "\n",
              "    .colab-df-convert:hover {\n",
              "      background-color: #E2EBFA;\n",
              "      box-shadow: 0px 1px 2px rgba(60, 64, 67, 0.3), 0px 1px 3px 1px rgba(60, 64, 67, 0.15);\n",
              "      fill: #174EA6;\n",
              "    }\n",
              "\n",
              "    .colab-df-buttons div {\n",
              "      margin-bottom: 4px;\n",
              "    }\n",
              "\n",
              "    [theme=dark] .colab-df-convert {\n",
              "      background-color: #3B4455;\n",
              "      fill: #D2E3FC;\n",
              "    }\n",
              "\n",
              "    [theme=dark] .colab-df-convert:hover {\n",
              "      background-color: #434B5C;\n",
              "      box-shadow: 0px 1px 3px 1px rgba(0, 0, 0, 0.15);\n",
              "      filter: drop-shadow(0px 1px 2px rgba(0, 0, 0, 0.3));\n",
              "      fill: #FFFFFF;\n",
              "    }\n",
              "  </style>\n",
              "\n",
              "    <script>\n",
              "      const buttonEl =\n",
              "        document.querySelector('#df-79809241-add3-425b-8ad8-7566af7441c9 button.colab-df-convert');\n",
              "      buttonEl.style.display =\n",
              "        google.colab.kernel.accessAllowed ? 'block' : 'none';\n",
              "\n",
              "      async function convertToInteractive(key) {\n",
              "        const element = document.querySelector('#df-79809241-add3-425b-8ad8-7566af7441c9');\n",
              "        const dataTable =\n",
              "          await google.colab.kernel.invokeFunction('convertToInteractive',\n",
              "                                                    [key], {});\n",
              "        if (!dataTable) return;\n",
              "\n",
              "        const docLinkHtml = 'Like what you see? Visit the ' +\n",
              "          '<a target=\"_blank\" href=https://colab.research.google.com/notebooks/data_table.ipynb>data table notebook</a>'\n",
              "          + ' to learn more about interactive tables.';\n",
              "        element.innerHTML = '';\n",
              "        dataTable['output_type'] = 'display_data';\n",
              "        await google.colab.output.renderOutput(dataTable, element);\n",
              "        const docLink = document.createElement('div');\n",
              "        docLink.innerHTML = docLinkHtml;\n",
              "        element.appendChild(docLink);\n",
              "      }\n",
              "    </script>\n",
              "  </div>\n",
              "\n",
              "\n",
              "    </div>\n",
              "  </div>\n"
            ],
            "application/vnd.google.colaboratory.intrinsic+json": {
              "type": "dataframe",
              "summary": "{\n  \"name\": \"]]\",\n  \"rows\": 1,\n  \"fields\": [\n    {\n      \"column\": \"company\",\n      \"properties\": {\n        \"dtype\": \"string\",\n        \"num_unique_values\": 1,\n        \"samples\": [\n          \"104900040\"\n        ],\n        \"semantic_type\": \"\",\n        \"description\": \"\"\n      }\n    },\n    {\n      \"column\": \"model\",\n      \"properties\": {\n        \"dtype\": \"string\",\n        \"num_unique_values\": 1,\n        \"samples\": [\n          \"dnn\"\n        ],\n        \"semantic_type\": \"\",\n        \"description\": \"\"\n      }\n    },\n    {\n      \"column\": \"loss\",\n      \"properties\": {\n        \"dtype\": \"string\",\n        \"num_unique_values\": 1,\n        \"samples\": [\n          \"ziln\"\n        ],\n        \"semantic_type\": \"\",\n        \"description\": \"\"\n      }\n    },\n    {\n      \"column\": \"label_mean\",\n      \"properties\": {\n        \"dtype\": \"float32\",\n        \"num_unique_values\": 1,\n        \"samples\": [\n          0.8443949818611145\n        ],\n        \"semantic_type\": \"\",\n        \"description\": \"\"\n      }\n    },\n    {\n      \"column\": \"pred_mean\",\n      \"properties\": {\n        \"dtype\": \"float32\",\n        \"num_unique_values\": 1,\n        \"samples\": [\n          0.8391773104667664\n        ],\n        \"semantic_type\": \"\",\n        \"description\": \"\"\n      }\n    },\n    {\n      \"column\": \"AUC\",\n      \"properties\": {\n        \"dtype\": \"number\",\n        \"std\": null,\n        \"min\": 0.6569015272627889,\n        \"max\": 0.6569015272627889,\n        \"num_unique_values\": 1,\n        \"samples\": [\n          0.6569015272627889\n        ],\n        \"semantic_type\": \"\",\n        \"description\": \"\"\n      }\n    },\n    {\n      \"column\": \"PR_AUC\",\n      \"properties\": {\n        \"dtype\": \"number\",\n        \"std\": null,\n        \"min\": 0.9056801073870255,\n        \"max\": 0.9056801073870255,\n        \"num_unique_values\": 1,\n        \"samples\": [\n          0.9056801073870255\n        ],\n        \"semantic_type\": \"\",\n        \"description\": \"\"\n      }\n    },\n    {\n      \"column\": \"precision\",\n      \"properties\": {\n        \"dtype\": \"number\",\n        \"std\": null,\n        \"min\": 0.8458454223081883,\n        \"max\": 0.8458454223081883,\n        \"num_unique_values\": 1,\n        \"samples\": [\n          0.8458454223081883\n        ],\n        \"semantic_type\": \"\",\n        \"description\": \"\"\n      }\n    },\n    {\n      \"column\": \"recall\",\n      \"properties\": {\n        \"dtype\": \"number\",\n        \"std\": null,\n        \"min\": 0.9971970830661061,\n        \"max\": 0.9971970830661061,\n        \"num_unique_values\": 1,\n        \"samples\": [\n          0.9971970830661061\n        ],\n        \"semantic_type\": \"\",\n        \"description\": \"\"\n      }\n    },\n    {\n      \"column\": \"f1\",\n      \"properties\": {\n        \"dtype\": \"number\",\n        \"std\": null,\n        \"min\": 0.9153067120166574,\n        \"max\": 0.9153067120166574,\n        \"num_unique_values\": 1,\n        \"samples\": [\n          0.9153067120166574\n        ],\n        \"semantic_type\": \"\",\n        \"description\": \"\"\n      }\n    }\n  ]\n}"
            }
          },
          "metadata": {},
          "execution_count": 183
        }
      ],
      "source": [
        "df_metrics[[\n",
        "    'company',\n",
        "    'model',\n",
        "    'loss',\n",
        "    'label_mean',\n",
        "    'pred_mean',\n",
        "    'AUC',\n",
        "    'PR_AUC',\n",
        "    'precision',\n",
        "    'recall',\n",
        "    'f1',\n",
        "]]"
      ]
    },
    {
      "cell_type": "markdown",
      "metadata": {
        "id": "UVy6lYn4mSrj"
      },
      "source": [
        "## Save"
      ]
    },
    {
      "cell_type": "code",
      "execution_count": 184,
      "metadata": {
        "id": "mtkQ4mqUEFsb"
      },
      "outputs": [],
      "source": [
        "output_path = os.path.join(OUTPUT_CSV_FOLDER, COMPANY)"
      ]
    },
    {
      "cell_type": "code",
      "execution_count": 185,
      "metadata": {
        "id": "3qmLzJqOEFsm"
      },
      "outputs": [],
      "source": [
        "if not os.path.isdir(output_path):\n",
        "  os.makedirs(output_path)"
      ]
    },
    {
      "cell_type": "code",
      "execution_count": 186,
      "metadata": {
        "id": "61B5Zc_UEFsr"
      },
      "outputs": [],
      "source": [
        "output_file = os.path.join(output_path,\n",
        "                           '{}_classification_{}.csv'.format(MODEL, LOSS))"
      ]
    },
    {
      "cell_type": "code",
      "execution_count": 187,
      "metadata": {
        "id": "gqglbXfwEFsv"
      },
      "outputs": [],
      "source": [
        "df_metrics.to_csv(output_file, index=False)"
      ]
    },
    {
      "cell_type": "code",
      "execution_count": 188,
      "metadata": {
        "id": "SwHWqiPMbGu2",
        "colab": {
          "base_uri": "https://localhost:8080/",
          "height": 564
        },
        "outputId": "120d66e8-a64f-41eb-9cc1-98886f4de944"
      },
      "outputs": [
        {
          "output_type": "display_data",
          "data": {
            "text/plain": [
              "<Figure size 800x600 with 2 Axes>"
            ],
            "image/png": "[encoded data removed]"
          },
          "metadata": {}
        }
      ],
      "source": [
        "import matplotlib.pyplot as plt\n",
        "import seaborn as sns\n",
        "from sklearn.metrics import confusion_matrix\n",
        "\n",
        "# Assuming y_true and y_pred are defined from the previous code\n",
        "# Example:\n",
        "# y_true = (y_eval > 0).astype('float32')\n",
        "# y_pred = K.sigmoid(logits[..., :1]).numpy().flatten()\n",
        "\n",
        "\n",
        "# Calculate the confusion matrix\n",
        "cm = confusion_matrix(y_true, (y_pred > 0.5).astype(int))\n",
        "\n",
        "# Plot the confusion matrix using seaborn\n",
        "plt.figure(figsize=(8, 6))\n",
        "sns.heatmap(cm, annot=True, fmt=\"d\", cmap=\"Blues\",\n",
        "            xticklabels=['Predicted 0', 'Predicted 1'],\n",
        "            yticklabels=['Actual 0', 'Actual 1'])\n",
        "plt.xlabel('Predicted Label')\n",
        "plt.ylabel('True Label')\n",
        "plt.title('Confusion Matrix')\n",
        "plt.show()"
      ]
    },
    {
      "cell_type": "code",
      "execution_count": 189,
      "metadata": {
        "id": "tc90xcxq27ZE"
      },
      "outputs": [],
      "source": [
        "def predict(chain, dept, category, brand, productmeasure, log_calibration_value):\n",
        "    \"\"\"Predicts the holdout value based on input features.\"\"\"\n",
        "\n",
        "    # Create a DataFrame from the input values\n",
        "    input_data = pd.DataFrame({\n",
        "        'chain': [chain],\n",
        "        'dept': [dept],\n",
        "        'category': [category],\n",
        "        'brand': [brand],\n",
        "        'productmeasure': [productmeasure],\n",
        "        'log_calibration_value': [log_calibration_value]\n",
        "    })\n",
        "\n",
        "    # Preprocess the input data (mimicking the preprocessing steps in the original code)\n",
        "    for col in ['chain', 'dept', 'category', 'brand', 'productmeasure']:\n",
        "        le = preprocessing.LabelEncoder()\n",
        "        # Fit the label encoder using the original training data (customer_level_data)\n",
        "        le.fit(customer_level_data[col])\n",
        "        input_data[col] = le.transform(input_data[col])\n",
        "\n",
        "    # Prepare the input for the model\n",
        "    numeric_input = input_data[['log_calibration_value']].values\n",
        "    categorical_inputs = [input_data[col].values for col in ['chain', 'dept', 'category', 'brand', 'productmeasure']]\n",
        "    input_dict = {'numeric': numeric_input}\n",
        "    for i, col in enumerate(['chain', 'dept', 'category', 'brand', 'productmeasure']):\n",
        "        input_dict[col] = categorical_inputs[i]\n",
        "\n",
        "    # Make the prediction\n",
        "    logits = model.predict(input_dict)\n",
        "\n",
        "    # Process the output based on the loss function used\n",
        "    if LOSS == 'bce':\n",
        "        prediction = K.sigmoid(logits).numpy().flatten()[0]\n",
        "    elif LOSS == 'ziln':\n",
        "        # For zero-inflated lognormal, you'll need to handle the 3-element output.\n",
        "        #  This example just returns the first element for simplicity.\n",
        "        prediction = logits[0,0]\n",
        "    else:\n",
        "        prediction = 0\n",
        "\n",
        "    return prediction"
      ]
    },
    {
      "cell_type": "code",
      "execution_count": 190,
      "metadata": {
        "id": "G6YjRWvMuadp",
        "colab": {
          "base_uri": "https://localhost:8080/"
        },
        "outputId": "22b36f01-8f37-4a90-d569-2bfe1e33c920"
      },
      "outputs": [
        {
          "output_type": "stream",
          "name": "stdout",
          "text": [
            "\u001b[1m1/1\u001b[0m \u001b[32m━━━━━━━━━━━━━━━━━━━━\u001b[0m\u001b[37m\u001b[0m \u001b[1m0s\u001b[0m 160ms/step\n",
            "Prediction: 2.2576119899749756\n"
          ]
        }
      ],
      "source": [
        "# prompt: provide sample input for above function\n",
        "\n",
        "# Example usage of the predict function\n",
        "chain = '69'  # Replace with an actual chain value from the dataset\n",
        "dept = '3' # Replace with an actual dept value from the dataset\n",
        "category = '14' # Replace with an actual category value from the dataset\n",
        "brand = '14' # Replace with an actual brand value from the dataset\n",
        "productmeasure = '0'  # Replace with an actual productmeasure value from the dataset\n",
        "log_calibration_value = 1  # Replace with an actual log_calibration_value\n",
        "\n",
        "\n",
        "prediction = predict(chain, dept, category, brand, productmeasure, log_calibration_value)\n",
        "print(f\"Prediction: {prediction}\")\n"
      ]
    },
    {
      "cell_type": "code",
      "execution_count": 191,
      "metadata": {
        "id": "qnuEUzHkujWf",
        "colab": {
          "base_uri": "https://localhost:8080/"
        },
        "outputId": "afe56e25-4535-4b74-bfa8-0aadaed960ee"
      },
      "outputs": [
        {
          "output_type": "stream",
          "name": "stdout",
          "text": [
            "\u001b[1m1/1\u001b[0m \u001b[32m━━━━━━━━━━━━━━━━━━━━\u001b[0m\u001b[37m\u001b[0m \u001b[1m0s\u001b[0m 24ms/step\n",
            "Prediction: 2.2576119899749756\n"
          ]
        }
      ],
      "source": [
        "# prompt: What is the actual prediction value?\n",
        "\n",
        "def predict(chain, dept, category, brand, productmeasure, log_calibration_value):\n",
        "    \"\"\"Predicts the holdout value based on input features.\"\"\"\n",
        "\n",
        "    # Create a DataFrame from the input values\n",
        "    input_data = pd.DataFrame({\n",
        "        'chain': [chain],\n",
        "        'dept': [dept],\n",
        "        'category': [category],\n",
        "        'brand': [brand],\n",
        "        'productmeasure': [productmeasure],\n",
        "        'log_calibration_value': [log_calibration_value]\n",
        "    })\n",
        "\n",
        "    # Preprocess the input data (mimicking the preprocessing steps in the original code)\n",
        "    for col in ['chain', 'dept', 'category', 'brand', 'productmeasure']:\n",
        "        le = preprocessing.LabelEncoder()\n",
        "        # Fit the label encoder using the original training data (customer_level_data)\n",
        "        le.fit(customer_level_data[col])\n",
        "        input_data[col] = le.transform(input_data[col])\n",
        "\n",
        "    # Prepare the input for the model\n",
        "    numeric_input = input_data[['log_calibration_value']].values\n",
        "    categorical_inputs = [input_data[col].values for col in ['chain', 'dept', 'category', 'brand', 'productmeasure']]\n",
        "    input_dict = {'numeric': numeric_input}\n",
        "    for i, col in enumerate(['chain', 'dept', 'category', 'brand', 'productmeasure']):\n",
        "        input_dict[col] = categorical_inputs[i]\n",
        "\n",
        "    # Make the prediction\n",
        "    logits = model.predict(input_dict)\n",
        "\n",
        "    # Process the output based on the loss function used\n",
        "    if LOSS == 'bce':\n",
        "        prediction = K.sigmoid(logits).numpy().flatten()[0]\n",
        "    elif LOSS == 'ziln':\n",
        "        # For zero-inflated lognormal, you'll need to handle the 3-element output.\n",
        "        #  This example just returns the first element for simplicity.\n",
        "        prediction = logits[0,0]\n",
        "    else:\n",
        "        prediction = 0\n",
        "\n",
        "    return prediction\n",
        "\n",
        "# Example usage of the predict function\n",
        "chain = '69'  # Replace with an actual chain value from the dataset\n",
        "dept = '3' # Replace with an actual dept value from the dataset\n",
        "category = '14' # Replace with an actual category value from the dataset\n",
        "brand = '14' # Replace with an actual brand value from the dataset\n",
        "productmeasure = '0'  # Replace with an actual productmeasure value from the dataset\n",
        "log_calibration_value = 1  # Replace with an actual log_calibration_value\n",
        "\n",
        "\n",
        "prediction = predict(chain, dept, category, brand, productmeasure, log_calibration_value)\n",
        "print(f\"Prediction: {prediction}\")"
      ]
    },
    {
      "cell_type": "code",
      "execution_count": 192,
      "metadata": {
        "id": "30uhnsbuyD5_"
      },
      "outputs": [],
      "source": [
        "def predict_with_model(model, inputs, categorical_features, numeric_features, batch_size=1024):\n",
        "    \"\"\"\n",
        "    Predict output values using a trained model.\n",
        "\n",
        "    Parameters:\n",
        "    - model: Trained TensorFlow/Keras model.\n",
        "    - inputs: A DataFrame or dictionary containing input data.\n",
        "    - categorical_features: List of categorical feature names.\n",
        "    - numeric_features: List of numeric feature names.\n",
        "    - batch_size: Batch size for prediction (default=1024).\n",
        "\n",
        "    Returns:\n",
        "    - A 1D NumPy array of predicted probabilities.\n",
        "    \"\"\"\n",
        "    # Ensure inputs are preprocessed as per model requirements\n",
        "    features = {}\n",
        "    for feature in categorical_features:\n",
        "        features[feature] = inputs[feature].values\n",
        "\n",
        "    features['numeric'] = inputs[numeric_features].values\n",
        "\n",
        "    # Predict logits\n",
        "    logits = model.predict(x=features, batch_size=batch_size)\n",
        "\n",
        "    # Apply sigmoid activation to get probabilities\n",
        "    probabilities = K.sigmoid(logits[..., :1]).numpy().flatten()\n",
        "\n",
        "    return probabilities"
      ]
    },
    {
      "cell_type": "code",
      "execution_count": 193,
      "metadata": {
        "id": "lpXc-V451ZOE",
        "colab": {
          "base_uri": "https://localhost:8080/",
          "height": 206
        },
        "outputId": "4b4a5a64-d69b-4ed8-d42c-39fa71a71be9"
      },
      "outputs": [
        {
          "output_type": "execute_result",
          "data": {
            "text/plain": [
              "         id  calibration_value  chain  dept  category  brand  productmeasure  \\\n",
              "0     86246              11.58     69     3        14     14               0   \n",
              "1     86252               0.99     69     2         2     10               0   \n",
              "2  12262064               1.72     39     2         2     10               0   \n",
              "3  12277270               4.49     39     3         4      1               0   \n",
              "4  12332190               1.49     39     3         6      2               0   \n",
              "\n",
              "   holdout_value  log_calibration_value       label  \n",
              "0     358.260010               2.449280  358.260010  \n",
              "1     336.649994              -0.010050  336.649994  \n",
              "2      32.310001               0.542324   32.310001  \n",
              "3     186.750000               1.501853  186.750000  \n",
              "4      53.610001               0.398776   53.610001  "
            ],
            "text/html": [
              "\n",
              "  <div id=\"df-0ea0d978-9aef-4ed3-9939-00c31187af27\" class=\"colab-df-container\">\n",
              "    <div>\n",
              "<style scoped>\n",
              "    .dataframe tbody tr th:only-of-type {\n",
              "        vertical-align: middle;\n",
              "    }\n",
              "\n",
              "    .dataframe tbody tr th {\n",
              "        vertical-align: top;\n",
              "    }\n",
              "\n",
              "    .dataframe thead th {\n",
              "        text-align: right;\n",
              "    }\n",
              "</style>\n",
              "<table border=\"1\" class=\"dataframe\">\n",
              "  <thead>\n",
              "    <tr style=\"text-align: right;\">\n",
              "      <th></th>\n",
              "      <th>id</th>\n",
              "      <th>calibration_value</th>\n",
              "      <th>chain</th>\n",
              "      <th>dept</th>\n",
              "      <th>category</th>\n",
              "      <th>brand</th>\n",
              "      <th>productmeasure</th>\n",
              "      <th>holdout_value</th>\n",
              "      <th>log_calibration_value</th>\n",
              "      <th>label</th>\n",
              "    </tr>\n",
              "  </thead>\n",
              "  <tbody>\n",
              "    <tr>\n",
              "      <th>0</th>\n",
              "      <td>86246</td>\n",
              "      <td>11.58</td>\n",
              "      <td>69</td>\n",
              "      <td>3</td>\n",
              "      <td>14</td>\n",
              "      <td>14</td>\n",
              "      <td>0</td>\n",
              "      <td>358.260010</td>\n",
              "      <td>2.449280</td>\n",
              "      <td>358.260010</td>\n",
              "    </tr>\n",
              "    <tr>\n",
              "      <th>1</th>\n",
              "      <td>86252</td>\n",
              "      <td>0.99</td>\n",
              "      <td>69</td>\n",
              "      <td>2</td>\n",
              "      <td>2</td>\n",
              "      <td>10</td>\n",
              "      <td>0</td>\n",
              "      <td>336.649994</td>\n",
              "      <td>-0.010050</td>\n",
              "      <td>336.649994</td>\n",
              "    </tr>\n",
              "    <tr>\n",
              "      <th>2</th>\n",
              "      <td>12262064</td>\n",
              "      <td>1.72</td>\n",
              "      <td>39</td>\n",
              "      <td>2</td>\n",
              "      <td>2</td>\n",
              "      <td>10</td>\n",
              "      <td>0</td>\n",
              "      <td>32.310001</td>\n",
              "      <td>0.542324</td>\n",
              "      <td>32.310001</td>\n",
              "    </tr>\n",
              "    <tr>\n",
              "      <th>3</th>\n",
              "      <td>12277270</td>\n",
              "      <td>4.49</td>\n",
              "      <td>39</td>\n",
              "      <td>3</td>\n",
              "      <td>4</td>\n",
              "      <td>1</td>\n",
              "      <td>0</td>\n",
              "      <td>186.750000</td>\n",
              "      <td>1.501853</td>\n",
              "      <td>186.750000</td>\n",
              "    </tr>\n",
              "    <tr>\n",
              "      <th>4</th>\n",
              "      <td>12332190</td>\n",
              "      <td>1.49</td>\n",
              "      <td>39</td>\n",
              "      <td>3</td>\n",
              "      <td>6</td>\n",
              "      <td>2</td>\n",
              "      <td>0</td>\n",
              "      <td>53.610001</td>\n",
              "      <td>0.398776</td>\n",
              "      <td>53.610001</td>\n",
              "    </tr>\n",
              "  </tbody>\n",
              "</table>\n",
              "</div>\n",
              "    <div class=\"colab-df-buttons\">\n",
              "\n",
              "  <div class=\"colab-df-container\">\n",
              "    <button class=\"colab-df-convert\" onclick=\"convertToInteractive('df-0ea0d978-9aef-4ed3-9939-00c31187af27')\"\n",
              "            title=\"Convert this dataframe to an interactive table.\"\n",
              "            style=\"display:none;\">\n",
              "\n",
              "  <svg xmlns=\"http://www.w3.org/2000/svg\" height=\"24px\" viewBox=\"0 -960 960 960\">\n",
              "    <path d=\"M120-120v-720h720v720H120Zm60-500h600v-160H180v160Zm220 220h160v-160H400v160Zm0 220h160v-160H400v160ZM180-400h160v-160H180v160Zm440 0h160v-160H620v160ZM180-180h160v-160H180v160Zm440 0h160v-160H620v160Z\"/>\n",
              "  </svg>\n",
              "    </button>\n",
              "\n",
              "  <style>\n",
              "    .colab-df-container {\n",
              "      display:flex;\n",
              "      gap: 12px;\n",
              "    }\n",
              "\n",
              "    .colab-df-convert {\n",
              "      background-color: #E8F0FE;\n",
              "      border: none;\n",
              "      border-radius: 50%;\n",
              "      cursor: pointer;\n",
              "      display: none;\n",
              "      fill: #1967D2;\n",
              "      height: 32px;\n",
              "      padding: 0 0 0 0;\n",
              "      width: 32px;\n",
              "    }\n",
              "\n",
              "    .colab-df-convert:hover {\n",
              "      background-color: #E2EBFA;\n",
              "      box-shadow: 0px 1px 2px rgba(60, 64, 67, 0.3), 0px 1px 3px 1px rgba(60, 64, 67, 0.15);\n",
              "      fill: #174EA6;\n",
              "    }\n",
              "\n",
              "    .colab-df-buttons div {\n",
              "      margin-bottom: 4px;\n",
              "    }\n",
              "\n",
              "    [theme=dark] .colab-df-convert {\n",
              "      background-color: #3B4455;\n",
              "      fill: #D2E3FC;\n",
              "    }\n",
              "\n",
              "    [theme=dark] .colab-df-convert:hover {\n",
              "      background-color: #434B5C;\n",
              "      box-shadow: 0px 1px 3px 1px rgba(0, 0, 0, 0.15);\n",
              "      filter: drop-shadow(0px 1px 2px rgba(0, 0, 0, 0.3));\n",
              "      fill: #FFFFFF;\n",
              "    }\n",
              "  </style>\n",
              "\n",
              "    <script>\n",
              "      const buttonEl =\n",
              "        document.querySelector('#df-0ea0d978-9aef-4ed3-9939-00c31187af27 button.colab-df-convert');\n",
              "      buttonEl.style.display =\n",
              "        google.colab.kernel.accessAllowed ? 'block' : 'none';\n",
              "\n",
              "      async function convertToInteractive(key) {\n",
              "        const element = document.querySelector('#df-0ea0d978-9aef-4ed3-9939-00c31187af27');\n",
              "        const dataTable =\n",
              "          await google.colab.kernel.invokeFunction('convertToInteractive',\n",
              "                                                    [key], {});\n",
              "        if (!dataTable) return;\n",
              "\n",
              "        const docLinkHtml = 'Like what you see? Visit the ' +\n",
              "          '<a target=\"_blank\" href=https://colab.research.google.com/notebooks/data_table.ipynb>data table notebook</a>'\n",
              "          + ' to learn more about interactive tables.';\n",
              "        element.innerHTML = '';\n",
              "        dataTable['output_type'] = 'display_data';\n",
              "        await google.colab.output.renderOutput(dataTable, element);\n",
              "        const docLink = document.createElement('div');\n",
              "        docLink.innerHTML = docLinkHtml;\n",
              "        element.appendChild(docLink);\n",
              "      }\n",
              "    </script>\n",
              "  </div>\n",
              "\n",
              "\n",
              "<div id=\"df-17424a94-f5e9-4e1e-8cd1-2a786ccc00ce\">\n",
              "  <button class=\"colab-df-quickchart\" onclick=\"quickchart('df-17424a94-f5e9-4e1e-8cd1-2a786ccc00ce')\"\n",
              "            title=\"Suggest charts\"\n",
              "            style=\"display:none;\">\n",
              "\n",
              "<svg xmlns=\"http://www.w3.org/2000/svg\" height=\"24px\"viewBox=\"0 0 24 24\"\n",
              "     width=\"24px\">\n",
              "    <g>\n",
              "        <path d=\"M19 3H5c-1.1 0-2 .9-2 2v14c0 1.1.9 2 2 2h14c1.1 0 2-.9 2-2V5c0-1.1-.9-2-2-2zM9 17H7v-7h2v7zm4 0h-2V7h2v10zm4 0h-2v-4h2v4z\"/>\n",
              "    </g>\n",
              "</svg>\n",
              "  </button>\n",
              "\n",
              "<style>\n",
              "  .colab-df-quickchart {\n",
              "      --bg-color: #E8F0FE;\n",
              "      --fill-color: #1967D2;\n",
              "      --hover-bg-color: #E2EBFA;\n",
              "      --hover-fill-color: #174EA6;\n",
              "      --disabled-fill-color: #AAA;\n",
              "      --disabled-bg-color: #DDD;\n",
              "  }\n",
              "\n",
              "  [theme=dark] .colab-df-quickchart {\n",
              "      --bg-color: #3B4455;\n",
              "      --fill-color: #D2E3FC;\n",
              "      --hover-bg-color: #434B5C;\n",
              "      --hover-fill-color: #FFFFFF;\n",
              "      --disabled-bg-color: #3B4455;\n",
              "      --disabled-fill-color: #666;\n",
              "  }\n",
              "\n",
              "  .colab-df-quickchart {\n",
              "    background-color: var(--bg-color);\n",
              "    border: none;\n",
              "    border-radius: 50%;\n",
              "    cursor: pointer;\n",
              "    display: none;\n",
              "    fill: var(--fill-color);\n",
              "    height: 32px;\n",
              "    padding: 0;\n",
              "    width: 32px;\n",
              "  }\n",
              "\n",
              "  .colab-df-quickchart:hover {\n",
              "    background-color: var(--hover-bg-color);\n",
              "    box-shadow: 0 1px 2px rgba(60, 64, 67, 0.3), 0 1px 3px 1px rgba(60, 64, 67, 0.15);\n",
              "    fill: var(--button-hover-fill-color);\n",
              "  }\n",
              "\n",
              "  .colab-df-quickchart-complete:disabled,\n",
              "  .colab-df-quickchart-complete:disabled:hover {\n",
              "    background-color: var(--disabled-bg-color);\n",
              "    fill: var(--disabled-fill-color);\n",
              "    box-shadow: none;\n",
              "  }\n",
              "\n",
              "  .colab-df-spinner {\n",
              "    border: 2px solid var(--fill-color);\n",
              "    border-color: transparent;\n",
              "    border-bottom-color: var(--fill-color);\n",
              "    animation:\n",
              "      spin 1s steps(1) infinite;\n",
              "  }\n",
              "\n",
              "  @keyframes spin {\n",
              "    0% {\n",
              "      border-color: transparent;\n",
              "      border-bottom-color: var(--fill-color);\n",
              "      border-left-color: var(--fill-color);\n",
              "    }\n",
              "    20% {\n",
              "      border-color: transparent;\n",
              "      border-left-color: var(--fill-color);\n",
              "      border-top-color: var(--fill-color);\n",
              "    }\n",
              "    30% {\n",
              "      border-color: transparent;\n",
              "      border-left-color: var(--fill-color);\n",
              "      border-top-color: var(--fill-color);\n",
              "      border-right-color: var(--fill-color);\n",
              "    }\n",
              "    40% {\n",
              "      border-color: transparent;\n",
              "      border-right-color: var(--fill-color);\n",
              "      border-top-color: var(--fill-color);\n",
              "    }\n",
              "    60% {\n",
              "      border-color: transparent;\n",
              "      border-right-color: var(--fill-color);\n",
              "    }\n",
              "    80% {\n",
              "      border-color: transparent;\n",
              "      border-right-color: var(--fill-color);\n",
              "      border-bottom-color: var(--fill-color);\n",
              "    }\n",
              "    90% {\n",
              "      border-color: transparent;\n",
              "      border-bottom-color: var(--fill-color);\n",
              "    }\n",
              "  }\n",
              "</style>\n",
              "\n",
              "  <script>\n",
              "    async function quickchart(key) {\n",
              "      const quickchartButtonEl =\n",
              "        document.querySelector('#' + key + ' button');\n",
              "      quickchartButtonEl.disabled = true;  // To prevent multiple clicks.\n",
              "      quickchartButtonEl.classList.add('colab-df-spinner');\n",
              "      try {\n",
              "        const charts = await google.colab.kernel.invokeFunction(\n",
              "            'suggestCharts', [key], {});\n",
              "      } catch (error) {\n",
              "        console.error('Error during call to suggestCharts:', error);\n",
              "      }\n",
              "      quickchartButtonEl.classList.remove('colab-df-spinner');\n",
              "      quickchartButtonEl.classList.add('colab-df-quickchart-complete');\n",
              "    }\n",
              "    (() => {\n",
              "      let quickchartButtonEl =\n",
              "        document.querySelector('#df-17424a94-f5e9-4e1e-8cd1-2a786ccc00ce button');\n",
              "      quickchartButtonEl.style.display =\n",
              "        google.colab.kernel.accessAllowed ? 'block' : 'none';\n",
              "    })();\n",
              "  </script>\n",
              "</div>\n",
              "\n",
              "    </div>\n",
              "  </div>\n"
            ],
            "application/vnd.google.colaboratory.intrinsic+json": {
              "type": "dataframe",
              "variable_name": "customer_level_data"
            }
          },
          "metadata": {},
          "execution_count": 193
        }
      ],
      "source": [
        "customer_level_data.head()"
      ]
    },
    {
      "cell_type": "code",
      "execution_count": 194,
      "metadata": {
        "id": "ReiBS7uN1MbU",
        "colab": {
          "base_uri": "https://localhost:8080/"
        },
        "outputId": "d429018a-5988-430f-eb19-0706d55e5d9e"
      },
      "outputs": [
        {
          "output_type": "stream",
          "name": "stdout",
          "text": [
            "\u001b[1m1/1\u001b[0m \u001b[32m━━━━━━━━━━━━━━━━━━━━\u001b[0m\u001b[37m\u001b[0m \u001b[1m0s\u001b[0m 43ms/step\n",
            "Predicted Probabilities: [0.9406768]\n"
          ]
        }
      ],
      "source": [
        "sample_data = pd.DataFrame({\n",
        "    'chain': [69],\n",
        "    'dept': [3],\n",
        "    'category': [14],\n",
        "    'brand': [14],\n",
        "    'productmeasure': [0],\n",
        "    'log_calibration_value': [2.44]\n",
        "})\n",
        "\n",
        "categorical_features = ['chain', 'dept', 'category', 'brand', 'productmeasure']\n",
        "numeric_features = ['log_calibration_value']\n",
        "\n",
        "# Call the function\n",
        "predictions = predict_with_model(model, sample_data, categorical_features, numeric_features)\n",
        "\n",
        "print(\"Predicted Probabilities:\", predictions)"
      ]
    },
    {
      "cell_type": "code",
      "execution_count": 195,
      "metadata": {
        "id": "hfwuXzgu1Pc7"
      },
      "outputs": [],
      "source": [
        "# prompt: save the model with .h5 extension\n",
        "\n",
        "model.save('ltv_model.keras')"
      ]
    },
    {
      "cell_type": "code",
      "source": [
        "!dir"
      ],
      "metadata": {
        "colab": {
          "base_uri": "https://localhost:8080/"
        },
        "id": "lQSHECugEsLl",
        "outputId": "a8f38d6b-a2a1-4b2a-966b-34a69d24bfd8"
      },
      "execution_count": 196,
      "outputs": [
        {
          "output_type": "stream",
          "name": "stdout",
          "text": [
            "encoders  ltv_model.keras  sample_data\ttmp\n"
          ]
        }
      ]
    },
    {
      "cell_type": "code",
      "source": [
        "log_calibration_value"
      ],
      "metadata": {
        "colab": {
          "base_uri": "https://localhost:8080/"
        },
        "id": "tGoLwyLLFGxq",
        "outputId": "531ac332-9897-4704-d2d8-c177c86ab6d4"
      },
      "execution_count": 197,
      "outputs": [
        {
          "output_type": "execute_result",
          "data": {
            "text/plain": [
              "1"
            ]
          },
          "metadata": {},
          "execution_count": 197
        }
      ]
    },
    {
      "cell_type": "code",
      "source": [
        "customer_level_data['log_calibration_value'].mean()"
      ],
      "metadata": {
        "colab": {
          "base_uri": "https://localhost:8080/"
        },
        "id": "Bl36MJCk1k1w",
        "outputId": "7097fd7e-9657-464e-8e55-61abf8e2f5a5"
      },
      "execution_count": 210,
      "outputs": [
        {
          "output_type": "execute_result",
          "data": {
            "text/plain": [
              "1.3620551"
            ]
          },
          "metadata": {},
          "execution_count": 210
        }
      ]
    },
    {
      "cell_type": "code",
      "source": [
        "def load_encoders(categorical_features):\n",
        "    encoders = {}\n",
        "    encoder_dir = 'encoders'\n",
        "\n",
        "    # Load each encoder\n",
        "    for key in categorical_features:\n",
        "        with open(os.path.join(encoder_dir, f\"{key}_encoder.pkl\"), 'rb') as f:\n",
        "            encoders[key] = pickle.load(f)\n",
        "\n",
        "    return encoders\n",
        "\n",
        "def transform_new_data(df, categorical_features, numeric_features, encoders):\n",
        "    # Transform categorical features using the loaded encoders\n",
        "    for key in categorical_features:\n",
        "        encoder = encoders[key]\n",
        "        df[key] = encoder.transform(df[key])\n",
        "\n",
        "    # Return the transformed features (numeric values are unchanged)\n",
        "    features = {k: v.values for k, v in dict(df[categorical_features]).items()}\n",
        "    features['numeric'] = df[numeric_features].values\n",
        "    return features"
      ],
      "metadata": {
        "id": "75l4PoV8IfNl"
      },
      "execution_count": 199,
      "outputs": []
    },
    {
      "cell_type": "code",
      "source": [
        "encoders = load_encoders(CATEGORICAL_FEATURES)"
      ],
      "metadata": {
        "id": "ZvF5_VTMa6Qe"
      },
      "execution_count": 200,
      "outputs": []
    },
    {
      "cell_type": "code",
      "source": [
        "encoders"
      ],
      "metadata": {
        "colab": {
          "base_uri": "https://localhost:8080/"
        },
        "id": "ojnNr7GVbol9",
        "outputId": "80a1e5ce-aeab-46e5-bf76-930388665d6c"
      },
      "execution_count": 201,
      "outputs": [
        {
          "output_type": "execute_result",
          "data": {
            "text/plain": [
              "{'chain': LabelEncoder(),\n",
              " 'dept': LabelEncoder(),\n",
              " 'category': LabelEncoder(),\n",
              " 'brand': LabelEncoder(),\n",
              " 'productmeasure': LabelEncoder()}"
            ]
          },
          "metadata": {},
          "execution_count": 201
        }
      ]
    },
    {
      "cell_type": "code",
      "source": [
        "for i in encoders:\n",
        "    print(encoders[i].classes_)"
      ],
      "metadata": {
        "colab": {
          "base_uri": "https://localhost:8080/"
        },
        "id": "pRgyvbwzb4fS",
        "outputId": "1ea28d74-25ef-401e-b1d7-6362523e1c9e"
      },
      "execution_count": 202,
      "outputs": [
        {
          "output_type": "stream",
          "name": "stdout",
          "text": [
            "[  2   3   4   6   8   9  10  12  14  15  16  17  18  20  21  23  24  26\n",
            "  31  40  42  46  48  58  62  63  64  65  68  69  70  71  73  77  81  83\n",
            "  85  88  89  95  96  98 100 101 104 106 108 109 115 116 122 126 133 134\n",
            " 140 143 151 152 153 161 163 165 166 169 180 184 187 191 192 205 206 211\n",
            " 214 215 217 224 230 233 240 241 246 278 284 285 293 304 306 307 313 356\n",
            " 360 362 368 369 370 373 376 377 384 386 387 388 389 390 391 392 393 394\n",
            " 395 396 397 398 399 400 401 402 403 404 405 422 424 431 507 508 509 510\n",
            " 520 521 522 523 524 525 526]\n",
            "[ 6  7 21 36]\n",
            "[ 610  706 2105 2119 3601 3604 3611 3613 3618 3625 3626 3627 3628 3629\n",
            " 3630 3631 3632 3636 3638 3699]\n",
            "[ 1414  3809  4599  6137  6716  6869  8740 11484 11749 12086 14357 17186\n",
            " 17929 20736 23359 23363 39602 55528 68664 69531 74593]\n",
            "['OZ']\n"
          ]
        }
      ]
    },
    {
      "cell_type": "code",
      "source": [
        "encoders['chain'].transform([69])"
      ],
      "metadata": {
        "colab": {
          "base_uri": "https://localhost:8080/"
        },
        "id": "unlyHWSienh5",
        "outputId": "96c84c7c-9c2e-43d3-aaee-d10c1127dc53"
      },
      "execution_count": 205,
      "outputs": [
        {
          "output_type": "execute_result",
          "data": {
            "text/plain": [
              "array([29])"
            ]
          },
          "metadata": {},
          "execution_count": 205
        }
      ]
    },
    {
      "cell_type": "markdown",
      "source": [
        "# Log Calibration Value"
      ],
      "metadata": {
        "id": "Ns_R9_u6izkc"
      }
    },
    {
      "cell_type": "code",
      "source": [
        "import matplotlib.pyplot as plt\n",
        "import seaborn as sns\n",
        "\n",
        "sns.histplot(customer_level_data['log_calibration_value'], kde=True)\n",
        "plt.title('Log Calibration Value Distribution')\n",
        "plt.show()"
      ],
      "metadata": {
        "colab": {
          "base_uri": "https://localhost:8080/",
          "height": 472
        },
        "id": "2e1LaBc-N5Vx",
        "outputId": "40911df9-68b1-494d-a6c0-4099a71b65f1"
      },
      "execution_count": 211,
      "outputs": [
        {
          "output_type": "display_data",
          "data": {
            "text/plain": [
              "<Figure size 640x480 with 1 Axes>"
            ],
            "image/png": "[encoded data removed]"
          },
          "metadata": {}
        }
      ]
    },
    {
      "cell_type": "code",
      "source": [
        "skewness = customer_level_data['log_calibration_value'].skew()\n",
        "print(f\"Skewness: {skewness}\")"
      ],
      "metadata": {
        "colab": {
          "base_uri": "https://localhost:8080/"
        },
        "id": "i1oJOPhYOALJ",
        "outputId": "eb935d1b-ab86-4878-d54d-0a1e70fe3a59"
      },
      "execution_count": 212,
      "outputs": [
        {
          "output_type": "stream",
          "name": "stdout",
          "text": [
            "Skewness: 0.22711531817913055\n"
          ]
        }
      ]
    },
    {
      "cell_type": "code",
      "source": [
        "customer_level_data['transformed_value'] = customer_level_data['log_calibration_value'].apply(lambda x: np.log1p(x))"
      ],
      "metadata": {
        "colab": {
          "base_uri": "https://localhost:8080/"
        },
        "id": "XUEXgJYSOR4d",
        "outputId": "03d0ee7a-76a2-4886-a57a-0b7ce80ac7a2"
      },
      "execution_count": 214,
      "outputs": [
        {
          "output_type": "stream",
          "name": "stderr",
          "text": [
            "<ipython-input-214-0d0a0420ac31>:1: RuntimeWarning: invalid value encountered in log1p\n",
            "  customer_level_data['transformed_value'] = customer_level_data['log_calibration_value'].apply(lambda x: np.log1p(x))\n"
          ]
        }
      ]
    },
    {
      "cell_type": "code",
      "source": [],
      "metadata": {
        "id": "72mhTrE5Ocen"
      },
      "execution_count": null,
      "outputs": []
    }
  ],
  "metadata": {
    "colab": {
      "provenance": [],
      "include_colab_link": true
    },
    "kernelspec": {
      "display_name": "Python 3",
      "name": "python3"
    }
  },
  "nbformat": 4,
  "nbformat_minor": 0
}